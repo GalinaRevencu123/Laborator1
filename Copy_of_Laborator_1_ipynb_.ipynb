{
  "nbformat": 4,
  "nbformat_minor": 0,
  "metadata": {
    "colab": {
      "provenance": [],
      "collapsed_sections": [],
      "include_colab_link": true
    },
    "kernelspec": {
      "name": "python3",
      "display_name": "Python 3"
    },
    "language_info": {
      "name": "python"
    }
  },
  "cells": [
    {
      "cell_type": "markdown",
      "metadata": {
        "id": "view-in-github",
        "colab_type": "text"
      },
      "source": [
        "<a href=\"https://colab.research.google.com/github/GalinaRevencu123/Laborator1/blob/main/Copy_of_Laborator_1_ipynb_.ipynb\" target=\"_parent\"><img src=\"https://colab.research.google.com/assets/colab-badge.svg\" alt=\"Open In Colab\"/></a>"
      ]
    },
    {
      "cell_type": "markdown",
      "source": [
        "# 1. Introducere în date\n",
        "Curs: Analiza Datelor\n",
        "\n",
        "Autor: Viorel Munteanu"
      ],
      "metadata": {
        "id": "SA_nH9lMs1FX"
      }
    },
    {
      "cell_type": "code",
      "source": [],
      "metadata": {
        "id": "XDC7yLcOx2TO"
      },
      "execution_count": null,
      "outputs": []
    },
    {
      "cell_type": "markdown",
      "source": [
        "## 1.1 - Limbajul datelor\n",
        "### Introducere"
      ],
      "metadata": {
        "id": "XJ0zH_SvtG6c"
      }
    },
    {
      "cell_type": "markdown",
      "source": [
        "În această lucrare practică veți face cunoștință cu primele concepte ale codului R esențiale pentru a începe analiza datelor. Oamenii de știință încearcă să răspundă la întrebări folosind metode foarte riguroase și observații exacte. Aceste observații, care reprezintă nemijlocit **datele** - formează baza unei **analize de date**. Analiza datelor și statistica sunt instrumentele cu ajutorul cărora colectăm, analizăm și în final facem concluzii. Este foarte util să punem procesul de analiză a datelor în contextul unui proces general de analiză sau investigare:\n",
        "\n",
        "* Etapa 1. Identificarea problemei\n",
        "* Etapa 2. Colectarea datelor relevante la problemă\n",
        "* Etapa 3. Analiza datelor\n",
        "* Etapa 4. Formarea concluziilor\n",
        "\n",
        "Obiectivele noastre din acest tutorial sunt:\n",
        "\n",
        "- să facem cunoștință cu limbajul datelor\n",
        "- să încărcăm și să vizualizăm un set de date\n",
        "- să distingem diferite tipuri de variabile\n",
        "- să distingem studiile observaționale de cele experimentale\n",
        "- să determinăm scopul inferenței\n",
        "- să cunoștem strategiile de eșantionare\n",
        "- să înțelegem un desing experimental\n",
        "\n",
        "Acest tutorial practic presupune că nu aveți cunoștințe sau experineță în R, însă dacă doriți o introducere în R, vă recomand următoarele resurse:\n",
        "\n",
        "* RStudio Primers: https://rstudio.cloud/learn/primers\n",
        "* R Bootcamp: https://r-bootcamp.netlify.app/\n",
        "\n"
      ],
      "metadata": {
        "id": "WDonSgh4tPul"
      }
    },
    {
      "cell_type": "markdown",
      "source": [
        "### Pachete R"
      ],
      "metadata": {
        "id": "0cHOpPXEztaF"
      }
    },
    {
      "cell_type": "markdown",
      "source": [
        "Pachetele R sunt unitățile fundamentale ale codului R reproductibil. Pachetele includ funcții reutilizabile, documentația care descrie modul de utilizare a acestora și mici exemple și/sau seturi de date. În continuare vom utiliza două pachete:\n",
        "\n",
        "* `tidyverse`: tydiverse reprezintă o colecție de pachete R pentru analiza datelor/știința datelor, care au o filozofie comună privind datel și o sintaxă comună de programare R, fiind concepute în mod natural pentru a funcționa împreună. Mai multe informații găsiți aici: https://www.tidyverse.org/\n",
        "\n",
        "* `openintro`: un pachet ce conține seturi de date și alte resurse valoroase. Mai multe informații găsiți aici: http://openintrostat.github.io/openintro/\n",
        "\n",
        "Pentru instalarea pachetelor (în majoritatea cazurilor) utilizăm funcția `install.packeges(denumirea_pachetului)`. Odată ce am instalat pachetul, utilizăm funcția `library(denumirea_pachetului)` pentru a încărca pachetul în R. \n",
        "\n",
        "Haideți să încărcăm în R pachetele mai sus menționate."
      ],
      "metadata": {
        "id": "w_FDtL6-zzym"
      }
    },
    {
      "cell_type": "code",
      "source": [
        "%load_ext rpy2.ipython"
      ],
      "metadata": {
        "id": "KoGzee4j17qL"
      },
      "execution_count": null,
      "outputs": []
    },
    {
      "cell_type": "code",
      "source": [
        "%%R\n",
        "install.packages('tidyverse')\n",
        "install.packages('openintro')\n",
        "library(tidyverse)\n",
        "library(openintro)"
      ],
      "metadata": {
        "id": "eANFrRhd2F8B",
        "colab": {
          "base_uri": "https://localhost:8080/"
        },
        "outputId": "f0890310-1c57-4506-f6a1-a35720a2ac04"
      },
      "execution_count": null,
      "outputs": [
        {
          "output_type": "stream",
          "name": "stderr",
          "text": [
            "WARNING:rpy2.rinterface_lib.callbacks:R[write to console]: Installing package into ‘/usr/local/lib/R/site-library’\n",
            "(as ‘lib’ is unspecified)\n",
            "\n",
            "WARNING:rpy2.rinterface_lib.callbacks:R[write to console]: trying URL 'https://cran.rstudio.com/src/contrib/tidyverse_1.3.2.tar.gz'\n",
            "\n",
            "WARNING:rpy2.rinterface_lib.callbacks:R[write to console]: Content type 'application/x-gzip'\n",
            "WARNING:rpy2.rinterface_lib.callbacks:R[write to console]:  length 702514 bytes (686 KB)\n",
            "\n",
            "WARNING:rpy2.rinterface_lib.callbacks:R[write to console]: =\n",
            "WARNING:rpy2.rinterface_lib.callbacks:R[write to console]: =\n",
            "WARNING:rpy2.rinterface_lib.callbacks:R[write to console]: =\n",
            "WARNING:rpy2.rinterface_lib.callbacks:R[write to console]: =\n",
            "WARNING:rpy2.rinterface_lib.callbacks:R[write to console]: =\n",
            "WARNING:rpy2.rinterface_lib.callbacks:R[write to console]: =\n",
            "WARNING:rpy2.rinterface_lib.callbacks:R[write to console]: =\n",
            "WARNING:rpy2.rinterface_lib.callbacks:R[write to console]: =\n",
            "WARNING:rpy2.rinterface_lib.callbacks:R[write to console]: =\n",
            "WARNING:rpy2.rinterface_lib.callbacks:R[write to console]: =\n",
            "WARNING:rpy2.rinterface_lib.callbacks:R[write to console]: =\n",
            "WARNING:rpy2.rinterface_lib.callbacks:R[write to console]: =\n",
            "WARNING:rpy2.rinterface_lib.callbacks:R[write to console]: =\n",
            "WARNING:rpy2.rinterface_lib.callbacks:R[write to console]: =\n",
            "WARNING:rpy2.rinterface_lib.callbacks:R[write to console]: =\n",
            "WARNING:rpy2.rinterface_lib.callbacks:R[write to console]: =\n",
            "WARNING:rpy2.rinterface_lib.callbacks:R[write to console]: =\n",
            "WARNING:rpy2.rinterface_lib.callbacks:R[write to console]: =\n",
            "WARNING:rpy2.rinterface_lib.callbacks:R[write to console]: =\n",
            "WARNING:rpy2.rinterface_lib.callbacks:R[write to console]: =\n",
            "WARNING:rpy2.rinterface_lib.callbacks:R[write to console]: =\n",
            "WARNING:rpy2.rinterface_lib.callbacks:R[write to console]: =\n",
            "WARNING:rpy2.rinterface_lib.callbacks:R[write to console]: =\n",
            "WARNING:rpy2.rinterface_lib.callbacks:R[write to console]: =\n",
            "WARNING:rpy2.rinterface_lib.callbacks:R[write to console]: =\n",
            "WARNING:rpy2.rinterface_lib.callbacks:R[write to console]: =\n",
            "WARNING:rpy2.rinterface_lib.callbacks:R[write to console]: =\n",
            "WARNING:rpy2.rinterface_lib.callbacks:R[write to console]: =\n",
            "WARNING:rpy2.rinterface_lib.callbacks:R[write to console]: =\n",
            "WARNING:rpy2.rinterface_lib.callbacks:R[write to console]: =\n",
            "WARNING:rpy2.rinterface_lib.callbacks:R[write to console]: =\n",
            "WARNING:rpy2.rinterface_lib.callbacks:R[write to console]: =\n",
            "WARNING:rpy2.rinterface_lib.callbacks:R[write to console]: =\n",
            "WARNING:rpy2.rinterface_lib.callbacks:R[write to console]: =\n",
            "WARNING:rpy2.rinterface_lib.callbacks:R[write to console]: =\n",
            "WARNING:rpy2.rinterface_lib.callbacks:R[write to console]: =\n",
            "WARNING:rpy2.rinterface_lib.callbacks:R[write to console]: =\n",
            "WARNING:rpy2.rinterface_lib.callbacks:R[write to console]: =\n",
            "WARNING:rpy2.rinterface_lib.callbacks:R[write to console]: =\n",
            "WARNING:rpy2.rinterface_lib.callbacks:R[write to console]: =\n",
            "WARNING:rpy2.rinterface_lib.callbacks:R[write to console]: =\n",
            "WARNING:rpy2.rinterface_lib.callbacks:R[write to console]: =\n",
            "WARNING:rpy2.rinterface_lib.callbacks:R[write to console]: =\n",
            "WARNING:rpy2.rinterface_lib.callbacks:R[write to console]: =\n",
            "WARNING:rpy2.rinterface_lib.callbacks:R[write to console]: =\n",
            "WARNING:rpy2.rinterface_lib.callbacks:R[write to console]: =\n",
            "WARNING:rpy2.rinterface_lib.callbacks:R[write to console]: =\n",
            "WARNING:rpy2.rinterface_lib.callbacks:R[write to console]: =\n",
            "WARNING:rpy2.rinterface_lib.callbacks:R[write to console]: =\n",
            "WARNING:rpy2.rinterface_lib.callbacks:R[write to console]: =\n",
            "WARNING:rpy2.rinterface_lib.callbacks:R[write to console]: \n",
            "\n",
            "WARNING:rpy2.rinterface_lib.callbacks:R[write to console]: downloaded 686 KB\n",
            "\n",
            "\n",
            "WARNING:rpy2.rinterface_lib.callbacks:R[write to console]: \n",
            "\n",
            "WARNING:rpy2.rinterface_lib.callbacks:R[write to console]: \n",
            "WARNING:rpy2.rinterface_lib.callbacks:R[write to console]: The downloaded source packages are in\n",
            "\t‘/tmp/RtmpLzTEML/downloaded_packages’\n",
            "WARNING:rpy2.rinterface_lib.callbacks:R[write to console]: \n",
            "WARNING:rpy2.rinterface_lib.callbacks:R[write to console]: \n",
            "\n",
            "WARNING:rpy2.rinterface_lib.callbacks:R[write to console]: Installing package into ‘/usr/local/lib/R/site-library’\n",
            "(as ‘lib’ is unspecified)\n",
            "\n",
            "WARNING:rpy2.rinterface_lib.callbacks:R[write to console]: also installing the dependencies ‘airports’, ‘cherryblossom’, ‘usdata’\n",
            "\n",
            "\n",
            "WARNING:rpy2.rinterface_lib.callbacks:R[write to console]: trying URL 'https://cran.rstudio.com/src/contrib/airports_0.1.0.tar.gz'\n",
            "\n",
            "WARNING:rpy2.rinterface_lib.callbacks:R[write to console]: Content type 'application/x-gzip'\n",
            "WARNING:rpy2.rinterface_lib.callbacks:R[write to console]:  length 1243756 bytes (1.2 MB)\n",
            "\n",
            "WARNING:rpy2.rinterface_lib.callbacks:R[write to console]: =\n",
            "WARNING:rpy2.rinterface_lib.callbacks:R[write to console]: =\n",
            "WARNING:rpy2.rinterface_lib.callbacks:R[write to console]: =\n",
            "WARNING:rpy2.rinterface_lib.callbacks:R[write to console]: =\n",
            "WARNING:rpy2.rinterface_lib.callbacks:R[write to console]: =\n",
            "WARNING:rpy2.rinterface_lib.callbacks:R[write to console]: =\n",
            "WARNING:rpy2.rinterface_lib.callbacks:R[write to console]: =\n",
            "WARNING:rpy2.rinterface_lib.callbacks:R[write to console]: =\n",
            "WARNING:rpy2.rinterface_lib.callbacks:R[write to console]: =\n",
            "WARNING:rpy2.rinterface_lib.callbacks:R[write to console]: =\n",
            "WARNING:rpy2.rinterface_lib.callbacks:R[write to console]: =\n",
            "WARNING:rpy2.rinterface_lib.callbacks:R[write to console]: =\n",
            "WARNING:rpy2.rinterface_lib.callbacks:R[write to console]: =\n",
            "WARNING:rpy2.rinterface_lib.callbacks:R[write to console]: =\n",
            "WARNING:rpy2.rinterface_lib.callbacks:R[write to console]: =\n",
            "WARNING:rpy2.rinterface_lib.callbacks:R[write to console]: =\n",
            "WARNING:rpy2.rinterface_lib.callbacks:R[write to console]: =\n",
            "WARNING:rpy2.rinterface_lib.callbacks:R[write to console]: =\n",
            "WARNING:rpy2.rinterface_lib.callbacks:R[write to console]: =\n",
            "WARNING:rpy2.rinterface_lib.callbacks:R[write to console]: =\n",
            "WARNING:rpy2.rinterface_lib.callbacks:R[write to console]: =\n",
            "WARNING:rpy2.rinterface_lib.callbacks:R[write to console]: =\n",
            "WARNING:rpy2.rinterface_lib.callbacks:R[write to console]: =\n",
            "WARNING:rpy2.rinterface_lib.callbacks:R[write to console]: =\n",
            "WARNING:rpy2.rinterface_lib.callbacks:R[write to console]: =\n",
            "WARNING:rpy2.rinterface_lib.callbacks:R[write to console]: =\n",
            "WARNING:rpy2.rinterface_lib.callbacks:R[write to console]: =\n",
            "WARNING:rpy2.rinterface_lib.callbacks:R[write to console]: =\n",
            "WARNING:rpy2.rinterface_lib.callbacks:R[write to console]: =\n",
            "WARNING:rpy2.rinterface_lib.callbacks:R[write to console]: =\n",
            "WARNING:rpy2.rinterface_lib.callbacks:R[write to console]: =\n",
            "WARNING:rpy2.rinterface_lib.callbacks:R[write to console]: =\n",
            "WARNING:rpy2.rinterface_lib.callbacks:R[write to console]: =\n",
            "WARNING:rpy2.rinterface_lib.callbacks:R[write to console]: =\n",
            "WARNING:rpy2.rinterface_lib.callbacks:R[write to console]: =\n",
            "WARNING:rpy2.rinterface_lib.callbacks:R[write to console]: =\n",
            "WARNING:rpy2.rinterface_lib.callbacks:R[write to console]: =\n",
            "WARNING:rpy2.rinterface_lib.callbacks:R[write to console]: =\n",
            "WARNING:rpy2.rinterface_lib.callbacks:R[write to console]: =\n",
            "WARNING:rpy2.rinterface_lib.callbacks:R[write to console]: =\n",
            "WARNING:rpy2.rinterface_lib.callbacks:R[write to console]: =\n",
            "WARNING:rpy2.rinterface_lib.callbacks:R[write to console]: =\n",
            "WARNING:rpy2.rinterface_lib.callbacks:R[write to console]: =\n",
            "WARNING:rpy2.rinterface_lib.callbacks:R[write to console]: =\n",
            "WARNING:rpy2.rinterface_lib.callbacks:R[write to console]: =\n",
            "WARNING:rpy2.rinterface_lib.callbacks:R[write to console]: =\n",
            "WARNING:rpy2.rinterface_lib.callbacks:R[write to console]: =\n",
            "WARNING:rpy2.rinterface_lib.callbacks:R[write to console]: =\n",
            "WARNING:rpy2.rinterface_lib.callbacks:R[write to console]: =\n",
            "WARNING:rpy2.rinterface_lib.callbacks:R[write to console]: =\n",
            "WARNING:rpy2.rinterface_lib.callbacks:R[write to console]: \n",
            "\n",
            "WARNING:rpy2.rinterface_lib.callbacks:R[write to console]: downloaded 1.2 MB\n",
            "\n",
            "\n",
            "WARNING:rpy2.rinterface_lib.callbacks:R[write to console]: trying URL 'https://cran.rstudio.com/src/contrib/cherryblossom_0.1.0.tar.gz'\n",
            "\n",
            "WARNING:rpy2.rinterface_lib.callbacks:R[write to console]: Content type 'application/x-gzip'\n",
            "WARNING:rpy2.rinterface_lib.callbacks:R[write to console]:  length 1190041 bytes (1.1 MB)\n",
            "\n",
            "WARNING:rpy2.rinterface_lib.callbacks:R[write to console]: =\n",
            "WARNING:rpy2.rinterface_lib.callbacks:R[write to console]: =\n",
            "WARNING:rpy2.rinterface_lib.callbacks:R[write to console]: =\n",
            "WARNING:rpy2.rinterface_lib.callbacks:R[write to console]: =\n",
            "WARNING:rpy2.rinterface_lib.callbacks:R[write to console]: =\n",
            "WARNING:rpy2.rinterface_lib.callbacks:R[write to console]: =\n",
            "WARNING:rpy2.rinterface_lib.callbacks:R[write to console]: =\n",
            "WARNING:rpy2.rinterface_lib.callbacks:R[write to console]: =\n",
            "WARNING:rpy2.rinterface_lib.callbacks:R[write to console]: =\n",
            "WARNING:rpy2.rinterface_lib.callbacks:R[write to console]: =\n",
            "WARNING:rpy2.rinterface_lib.callbacks:R[write to console]: =\n",
            "WARNING:rpy2.rinterface_lib.callbacks:R[write to console]: =\n",
            "WARNING:rpy2.rinterface_lib.callbacks:R[write to console]: =\n",
            "WARNING:rpy2.rinterface_lib.callbacks:R[write to console]: =\n",
            "WARNING:rpy2.rinterface_lib.callbacks:R[write to console]: =\n",
            "WARNING:rpy2.rinterface_lib.callbacks:R[write to console]: =\n",
            "WARNING:rpy2.rinterface_lib.callbacks:R[write to console]: =\n",
            "WARNING:rpy2.rinterface_lib.callbacks:R[write to console]: =\n",
            "WARNING:rpy2.rinterface_lib.callbacks:R[write to console]: =\n",
            "WARNING:rpy2.rinterface_lib.callbacks:R[write to console]: =\n",
            "WARNING:rpy2.rinterface_lib.callbacks:R[write to console]: =\n",
            "WARNING:rpy2.rinterface_lib.callbacks:R[write to console]: =\n",
            "WARNING:rpy2.rinterface_lib.callbacks:R[write to console]: =\n",
            "WARNING:rpy2.rinterface_lib.callbacks:R[write to console]: =\n",
            "WARNING:rpy2.rinterface_lib.callbacks:R[write to console]: =\n",
            "WARNING:rpy2.rinterface_lib.callbacks:R[write to console]: =\n",
            "WARNING:rpy2.rinterface_lib.callbacks:R[write to console]: =\n",
            "WARNING:rpy2.rinterface_lib.callbacks:R[write to console]: =\n",
            "WARNING:rpy2.rinterface_lib.callbacks:R[write to console]: =\n",
            "WARNING:rpy2.rinterface_lib.callbacks:R[write to console]: =\n",
            "WARNING:rpy2.rinterface_lib.callbacks:R[write to console]: =\n",
            "WARNING:rpy2.rinterface_lib.callbacks:R[write to console]: =\n",
            "WARNING:rpy2.rinterface_lib.callbacks:R[write to console]: =\n",
            "WARNING:rpy2.rinterface_lib.callbacks:R[write to console]: =\n",
            "WARNING:rpy2.rinterface_lib.callbacks:R[write to console]: =\n",
            "WARNING:rpy2.rinterface_lib.callbacks:R[write to console]: =\n",
            "WARNING:rpy2.rinterface_lib.callbacks:R[write to console]: =\n",
            "WARNING:rpy2.rinterface_lib.callbacks:R[write to console]: =\n",
            "WARNING:rpy2.rinterface_lib.callbacks:R[write to console]: =\n",
            "WARNING:rpy2.rinterface_lib.callbacks:R[write to console]: =\n",
            "WARNING:rpy2.rinterface_lib.callbacks:R[write to console]: =\n",
            "WARNING:rpy2.rinterface_lib.callbacks:R[write to console]: =\n",
            "WARNING:rpy2.rinterface_lib.callbacks:R[write to console]: =\n",
            "WARNING:rpy2.rinterface_lib.callbacks:R[write to console]: =\n",
            "WARNING:rpy2.rinterface_lib.callbacks:R[write to console]: =\n",
            "WARNING:rpy2.rinterface_lib.callbacks:R[write to console]: =\n",
            "WARNING:rpy2.rinterface_lib.callbacks:R[write to console]: =\n",
            "WARNING:rpy2.rinterface_lib.callbacks:R[write to console]: =\n",
            "WARNING:rpy2.rinterface_lib.callbacks:R[write to console]: =\n",
            "WARNING:rpy2.rinterface_lib.callbacks:R[write to console]: =\n",
            "WARNING:rpy2.rinterface_lib.callbacks:R[write to console]: \n",
            "\n",
            "WARNING:rpy2.rinterface_lib.callbacks:R[write to console]: downloaded 1.1 MB\n",
            "\n",
            "\n",
            "WARNING:rpy2.rinterface_lib.callbacks:R[write to console]: trying URL 'https://cran.rstudio.com/src/contrib/usdata_0.2.0.tar.gz'\n",
            "\n",
            "WARNING:rpy2.rinterface_lib.callbacks:R[write to console]: Content type 'application/x-gzip'\n",
            "WARNING:rpy2.rinterface_lib.callbacks:R[write to console]:  length 2655264 bytes (2.5 MB)\n",
            "\n",
            "WARNING:rpy2.rinterface_lib.callbacks:R[write to console]: =\n",
            "WARNING:rpy2.rinterface_lib.callbacks:R[write to console]: =\n",
            "WARNING:rpy2.rinterface_lib.callbacks:R[write to console]: =\n",
            "WARNING:rpy2.rinterface_lib.callbacks:R[write to console]: =\n",
            "WARNING:rpy2.rinterface_lib.callbacks:R[write to console]: =\n",
            "WARNING:rpy2.rinterface_lib.callbacks:R[write to console]: =\n",
            "WARNING:rpy2.rinterface_lib.callbacks:R[write to console]: =\n",
            "WARNING:rpy2.rinterface_lib.callbacks:R[write to console]: =\n",
            "WARNING:rpy2.rinterface_lib.callbacks:R[write to console]: =\n",
            "WARNING:rpy2.rinterface_lib.callbacks:R[write to console]: =\n",
            "WARNING:rpy2.rinterface_lib.callbacks:R[write to console]: =\n",
            "WARNING:rpy2.rinterface_lib.callbacks:R[write to console]: =\n",
            "WARNING:rpy2.rinterface_lib.callbacks:R[write to console]: =\n",
            "WARNING:rpy2.rinterface_lib.callbacks:R[write to console]: =\n",
            "WARNING:rpy2.rinterface_lib.callbacks:R[write to console]: =\n",
            "WARNING:rpy2.rinterface_lib.callbacks:R[write to console]: =\n",
            "WARNING:rpy2.rinterface_lib.callbacks:R[write to console]: =\n",
            "WARNING:rpy2.rinterface_lib.callbacks:R[write to console]: =\n",
            "WARNING:rpy2.rinterface_lib.callbacks:R[write to console]: =\n",
            "WARNING:rpy2.rinterface_lib.callbacks:R[write to console]: =\n",
            "WARNING:rpy2.rinterface_lib.callbacks:R[write to console]: =\n",
            "WARNING:rpy2.rinterface_lib.callbacks:R[write to console]: =\n",
            "WARNING:rpy2.rinterface_lib.callbacks:R[write to console]: =\n",
            "WARNING:rpy2.rinterface_lib.callbacks:R[write to console]: =\n",
            "WARNING:rpy2.rinterface_lib.callbacks:R[write to console]: =\n",
            "WARNING:rpy2.rinterface_lib.callbacks:R[write to console]: =\n",
            "WARNING:rpy2.rinterface_lib.callbacks:R[write to console]: =\n",
            "WARNING:rpy2.rinterface_lib.callbacks:R[write to console]: =\n",
            "WARNING:rpy2.rinterface_lib.callbacks:R[write to console]: =\n",
            "WARNING:rpy2.rinterface_lib.callbacks:R[write to console]: =\n",
            "WARNING:rpy2.rinterface_lib.callbacks:R[write to console]: =\n",
            "WARNING:rpy2.rinterface_lib.callbacks:R[write to console]: =\n",
            "WARNING:rpy2.rinterface_lib.callbacks:R[write to console]: =\n",
            "WARNING:rpy2.rinterface_lib.callbacks:R[write to console]: =\n",
            "WARNING:rpy2.rinterface_lib.callbacks:R[write to console]: =\n",
            "WARNING:rpy2.rinterface_lib.callbacks:R[write to console]: =\n",
            "WARNING:rpy2.rinterface_lib.callbacks:R[write to console]: =\n",
            "WARNING:rpy2.rinterface_lib.callbacks:R[write to console]: =\n",
            "WARNING:rpy2.rinterface_lib.callbacks:R[write to console]: =\n",
            "WARNING:rpy2.rinterface_lib.callbacks:R[write to console]: =\n",
            "WARNING:rpy2.rinterface_lib.callbacks:R[write to console]: =\n",
            "WARNING:rpy2.rinterface_lib.callbacks:R[write to console]: =\n",
            "WARNING:rpy2.rinterface_lib.callbacks:R[write to console]: =\n",
            "WARNING:rpy2.rinterface_lib.callbacks:R[write to console]: =\n",
            "WARNING:rpy2.rinterface_lib.callbacks:R[write to console]: =\n",
            "WARNING:rpy2.rinterface_lib.callbacks:R[write to console]: =\n",
            "WARNING:rpy2.rinterface_lib.callbacks:R[write to console]: =\n",
            "WARNING:rpy2.rinterface_lib.callbacks:R[write to console]: =\n",
            "WARNING:rpy2.rinterface_lib.callbacks:R[write to console]: =\n",
            "WARNING:rpy2.rinterface_lib.callbacks:R[write to console]: =\n",
            "WARNING:rpy2.rinterface_lib.callbacks:R[write to console]: \n",
            "\n",
            "WARNING:rpy2.rinterface_lib.callbacks:R[write to console]: downloaded 2.5 MB\n",
            "\n",
            "\n",
            "WARNING:rpy2.rinterface_lib.callbacks:R[write to console]: trying URL 'https://cran.rstudio.com/src/contrib/openintro_2.4.0.tar.gz'\n",
            "\n",
            "WARNING:rpy2.rinterface_lib.callbacks:R[write to console]: Content type 'application/x-gzip'\n",
            "WARNING:rpy2.rinterface_lib.callbacks:R[write to console]:  length 5022112 bytes (4.8 MB)\n",
            "\n",
            "WARNING:rpy2.rinterface_lib.callbacks:R[write to console]: =\n",
            "WARNING:rpy2.rinterface_lib.callbacks:R[write to console]: =\n",
            "WARNING:rpy2.rinterface_lib.callbacks:R[write to console]: =\n",
            "WARNING:rpy2.rinterface_lib.callbacks:R[write to console]: =\n",
            "WARNING:rpy2.rinterface_lib.callbacks:R[write to console]: =\n",
            "WARNING:rpy2.rinterface_lib.callbacks:R[write to console]: =\n",
            "WARNING:rpy2.rinterface_lib.callbacks:R[write to console]: =\n",
            "WARNING:rpy2.rinterface_lib.callbacks:R[write to console]: =\n",
            "WARNING:rpy2.rinterface_lib.callbacks:R[write to console]: =\n",
            "WARNING:rpy2.rinterface_lib.callbacks:R[write to console]: =\n",
            "WARNING:rpy2.rinterface_lib.callbacks:R[write to console]: =\n",
            "WARNING:rpy2.rinterface_lib.callbacks:R[write to console]: =\n",
            "WARNING:rpy2.rinterface_lib.callbacks:R[write to console]: =\n",
            "WARNING:rpy2.rinterface_lib.callbacks:R[write to console]: =\n",
            "WARNING:rpy2.rinterface_lib.callbacks:R[write to console]: =\n",
            "WARNING:rpy2.rinterface_lib.callbacks:R[write to console]: =\n",
            "WARNING:rpy2.rinterface_lib.callbacks:R[write to console]: =\n",
            "WARNING:rpy2.rinterface_lib.callbacks:R[write to console]: =\n",
            "WARNING:rpy2.rinterface_lib.callbacks:R[write to console]: =\n",
            "WARNING:rpy2.rinterface_lib.callbacks:R[write to console]: =\n",
            "WARNING:rpy2.rinterface_lib.callbacks:R[write to console]: =\n",
            "WARNING:rpy2.rinterface_lib.callbacks:R[write to console]: =\n",
            "WARNING:rpy2.rinterface_lib.callbacks:R[write to console]: =\n",
            "WARNING:rpy2.rinterface_lib.callbacks:R[write to console]: =\n",
            "WARNING:rpy2.rinterface_lib.callbacks:R[write to console]: =\n",
            "WARNING:rpy2.rinterface_lib.callbacks:R[write to console]: =\n",
            "WARNING:rpy2.rinterface_lib.callbacks:R[write to console]: =\n",
            "WARNING:rpy2.rinterface_lib.callbacks:R[write to console]: =\n",
            "WARNING:rpy2.rinterface_lib.callbacks:R[write to console]: =\n",
            "WARNING:rpy2.rinterface_lib.callbacks:R[write to console]: =\n",
            "WARNING:rpy2.rinterface_lib.callbacks:R[write to console]: =\n",
            "WARNING:rpy2.rinterface_lib.callbacks:R[write to console]: =\n",
            "WARNING:rpy2.rinterface_lib.callbacks:R[write to console]: =\n",
            "WARNING:rpy2.rinterface_lib.callbacks:R[write to console]: =\n",
            "WARNING:rpy2.rinterface_lib.callbacks:R[write to console]: =\n",
            "WARNING:rpy2.rinterface_lib.callbacks:R[write to console]: =\n",
            "WARNING:rpy2.rinterface_lib.callbacks:R[write to console]: =\n",
            "WARNING:rpy2.rinterface_lib.callbacks:R[write to console]: =\n",
            "WARNING:rpy2.rinterface_lib.callbacks:R[write to console]: =\n",
            "WARNING:rpy2.rinterface_lib.callbacks:R[write to console]: =\n",
            "WARNING:rpy2.rinterface_lib.callbacks:R[write to console]: =\n",
            "WARNING:rpy2.rinterface_lib.callbacks:R[write to console]: =\n",
            "WARNING:rpy2.rinterface_lib.callbacks:R[write to console]: =\n",
            "WARNING:rpy2.rinterface_lib.callbacks:R[write to console]: =\n",
            "WARNING:rpy2.rinterface_lib.callbacks:R[write to console]: =\n",
            "WARNING:rpy2.rinterface_lib.callbacks:R[write to console]: =\n",
            "WARNING:rpy2.rinterface_lib.callbacks:R[write to console]: =\n",
            "WARNING:rpy2.rinterface_lib.callbacks:R[write to console]: =\n",
            "WARNING:rpy2.rinterface_lib.callbacks:R[write to console]: =\n",
            "WARNING:rpy2.rinterface_lib.callbacks:R[write to console]: =\n",
            "WARNING:rpy2.rinterface_lib.callbacks:R[write to console]: \n",
            "\n",
            "WARNING:rpy2.rinterface_lib.callbacks:R[write to console]: downloaded 4.8 MB\n",
            "\n",
            "\n",
            "WARNING:rpy2.rinterface_lib.callbacks:R[write to console]: \n",
            "\n",
            "WARNING:rpy2.rinterface_lib.callbacks:R[write to console]: \n",
            "WARNING:rpy2.rinterface_lib.callbacks:R[write to console]: The downloaded source packages are in\n",
            "\t‘/tmp/RtmpLzTEML/downloaded_packages’\n",
            "WARNING:rpy2.rinterface_lib.callbacks:R[write to console]: \n",
            "WARNING:rpy2.rinterface_lib.callbacks:R[write to console]: \n",
            "\n"
          ]
        },
        {
          "output_type": "stream",
          "name": "stdout",
          "text": [
            "── Attaching packages ─────────────────────────────────────── tidyverse 1.3.2 ──\n",
            "✔ ggplot2 3.3.6      ✔ purrr   0.3.4 \n",
            "✔ tibble  3.1.7      ✔ dplyr   1.0.10\n",
            "✔ tidyr   1.2.1      ✔ stringr 1.4.1 \n",
            "✔ readr   2.1.2      ✔ forcats 0.5.2 \n",
            "── Conflicts ────────────────────────────────────────── tidyverse_conflicts() ──\n",
            "✖ dplyr::filter() masks stats::filter()\n",
            "✖ dplyr::lag()    masks stats::lag()\n"
          ]
        },
        {
          "output_type": "stream",
          "name": "stderr",
          "text": [
            "WARNING:rpy2.rinterface_lib.callbacks:R[write to console]: Loading required package: airports\n",
            "\n",
            "WARNING:rpy2.rinterface_lib.callbacks:R[write to console]: Loading required package: cherryblossom\n",
            "\n",
            "WARNING:rpy2.rinterface_lib.callbacks:R[write to console]: Loading required package: usdata\n",
            "\n"
          ]
        }
      ]
    },
    {
      "cell_type": "markdown",
      "source": [
        "### Datele în R"
      ],
      "metadata": {
        "id": "O-Aw5oJo3YqM"
      }
    },
    {
      "cell_type": "markdown",
      "source": [
        "Unul dintre seturile de date cu care vom lucra provine de la **High School and Beyound Survey**, care reprezintă un sondaj realizat pe elevii din liceu de către **National Center of Education Statistics** din SUA.\n",
        "\n",
        "Datele sunt organizate în ceea ce numim **cadru de date**, unde fiecare rând reprezintă o observație sau un caz și fiecare coloană reprezintă o variabilă. Dacă ați utilizat Excel, această reprezentare ar trebui să vă fie familiară.\n",
        "\n",
        "Setul de date menționat se numește `hsb2` și este stocat în pachetul `openintro`. Puteți afla mai multe despre acest set de date aici http://openintrostat.github.io/openintro/reference/hsb2.html. Mi jos este o previzualizare a setului de date."
      ],
      "metadata": {
        "id": "5g0w7TpZ3klE"
      }
    },
    {
      "cell_type": "code",
      "source": [
        "%%R\n",
        "head(openintro::hsb2)"
      ],
      "metadata": {
        "id": "xCdOva9T5AZ1",
        "colab": {
          "base_uri": "https://localhost:8080/"
        },
        "outputId": "c554e08f-0e8d-4b78-933c-2fbc399ae9eb"
      },
      "execution_count": null,
      "outputs": [
        {
          "output_type": "stream",
          "name": "stdout",
          "text": [
            "# A tibble: 6 × 11\n",
            "     id gender race  ses    schtyp prog        read write  math science socst\n",
            "  <int> <chr>  <chr> <fct>  <fct>  <fct>      <int> <int> <int>   <int> <int>\n",
            "1    70 male   white low    public general       57    52    41      47    57\n",
            "2   121 female white middle public vocational    68    59    53      63    61\n",
            "3    86 male   white high   public general       44    33    54      58    31\n",
            "4   141 male   white high   public vocational    63    44    47      53    56\n",
            "5   172 male   white middle public academic      47    52    57      53    61\n",
            "6   113 male   white middle public academic      44    52    51      63    61\n"
          ]
        }
      ]
    },
    {
      "cell_type": "markdown",
      "source": [
        "### Încărcarea datelor în R"
      ],
      "metadata": {
        "id": "_H1kyfCH5I_g"
      }
    },
    {
      "cell_type": "markdown",
      "source": [],
      "metadata": {
        "id": "cpJttPBJ1Y4l"
      }
    },
    {
      "cell_type": "markdown",
      "source": [
        "În funcție de locul unde sunt stocate datele pe care dorim să le utilizăm/analizăm, există numeroase moduri de încărcare a datelor în R. Cel mai des în curs vom utiliza date incluse în diverse pachete R, iar pentru a le accesa este nevoie să încărcăm pachetele R corespunzătoare. Alte formate de date utilizate în mod obișnuit sunt cele salvate în fișiere de tip TXT, CSV, XLX, XLSX, precum și RData, formatul de fișiere pe care R îl utilizează pentru stocarea datelor.\n",
        "\n",
        "În cea mai mare parte a cursului vom utiliza date existente din pachetele R, cu toate acestea, este important să putem încărca formatele de fișiere enumerate mai sus, în special atunci când avem de a face cu datele proprii."
      ],
      "metadata": {
        "id": "XxBEAi9G6Bm0"
      }
    },
    {
      "cell_type": "markdown",
      "source": [
        "### Să aruncăm o privire asupra datelor"
      ],
      "metadata": {
        "id": "CcCH4vyj7ire"
      }
    },
    {
      "cell_type": "markdown",
      "source": [
        "Atunci când dorim să lucrăm cu datele în R, un prim pas recomandat este să aruncăm o privire la cum arată sau reprezintă datele de interes. Funcția `glimpse()` reprezintă o opțiune bună de a realiza acest lucru."
      ],
      "metadata": {
        "id": "grkGgsBX7oCs"
      }
    },
    {
      "cell_type": "code",
      "source": [
        "%%R\n",
        "glimpse(hsb2)\n"
      ],
      "metadata": {
        "id": "5vvwU_Gk85UO",
        "colab": {
          "base_uri": "https://localhost:8080/"
        },
        "outputId": "3a72e598-0a48-4182-d6d6-8f40da5007b2"
      },
      "execution_count": null,
      "outputs": [
        {
          "output_type": "stream",
          "name": "stdout",
          "text": [
            "Rows: 200\n",
            "Columns: 11\n",
            "$ id      <int> 70, 121, 86, 141, 172, 113, 50, 11, 84, 48, 75, 60, 95, 104, 3…\n",
            "$ gender  <chr> \"male\", \"female\", \"male\", \"male\", \"male\", \"male\", \"male\", \"mal…\n",
            "$ race    <chr> \"white\", \"white\", \"white\", \"white\", \"white\", \"white\", \"african…\n",
            "$ ses     <fct> low, middle, high, high, middle, middle, middle, middle, middl…\n",
            "$ schtyp  <fct> public, public, public, public, public, public, public, public…\n",
            "$ prog    <fct> general, vocational, general, vocational, academic, academic, …\n",
            "$ read    <int> 57, 68, 44, 63, 47, 44, 50, 34, 63, 57, 60, 57, 73, 54, 45, 42…\n",
            "$ write   <int> 52, 59, 33, 44, 52, 52, 59, 46, 57, 55, 46, 65, 60, 63, 57, 49…\n",
            "$ math    <int> 41, 53, 54, 47, 57, 51, 42, 45, 54, 52, 51, 51, 71, 57, 50, 43…\n",
            "$ science <int> 47, 63, 58, 53, 53, 63, 53, 39, 58, 50, 53, 63, 61, 55, 31, 50…\n",
            "$ socst   <int> 57, 61, 31, 56, 61, 61, 61, 36, 51, 51, 61, 61, 71, 46, 56, 56…\n"
          ]
        }
      ]
    },
    {
      "cell_type": "markdown",
      "source": [],
      "metadata": {
        "id": "bV5iwukXqlq0"
      }
    },
    {
      "cell_type": "markdown",
      "source": [
        "Rezultatul apelării funcției ne indică că avem un cadru de date care include 200 de observații (rânduri) și 11 variabile (coloane). De asemenea, acesta listează variabilele și tipurile acestora, împreună cu valoriile primelor obsevații."
      ],
      "metadata": {
        "id": "19kV9C6x9BoF"
      }
    },
    {
      "cell_type": "markdown",
      "source": [
        "<font color='red'>**Sarcina 1**<br>\n",
        "Exersați pe setul de date `email50` care conține un subset de e-mailuri primite pentru trei luni la un singur cont de e-mail. Examinați strctura acestui set de date și determinați numărul de observați și variabile.</font> "
      ],
      "metadata": {
        "id": "42OczN4U9eu9"
      }
    },
    {
      "cell_type": "code",
      "source": [
        "%%R\n",
        "\n",
        "glimpse(email50)\n"
      ],
      "metadata": {
        "id": "0sBNILXa-F2h",
        "colab": {
          "base_uri": "https://localhost:8080/"
        },
        "outputId": "3c2486b4-3930-4c62-cb89-52e3b784529c"
      },
      "execution_count": null,
      "outputs": [
        {
          "output_type": "stream",
          "name": "stdout",
          "text": [
            "Rows: 50\n",
            "Columns: 21\n",
            "$ spam         <fct> 0, 0, 1, 0, 0, 0, 0, 0, 0, 0, 0, 0, 1, 1, 0, 0, 0, 1, 0, …\n",
            "$ to_multiple  <fct> 0, 0, 0, 0, 0, 0, 0, 0, 0, 0, 0, 0, 0, 1, 0, 0, 0, 0, 0, …\n",
            "$ from         <fct> 1, 1, 1, 1, 1, 1, 1, 1, 1, 1, 1, 1, 1, 1, 1, 1, 1, 1, 1, …\n",
            "$ cc           <int> 0, 0, 4, 0, 0, 0, 0, 0, 1, 0, 0, 0, 0, 0, 0, 0, 0, 0, 1, …\n",
            "$ sent_email   <fct> 1, 0, 0, 0, 0, 0, 0, 1, 1, 0, 0, 0, 0, 0, 0, 1, 1, 0, 1, …\n",
            "$ time         <dttm> 2012-01-04 13:19:16, 2012-02-16 20:10:06, 2012-01-04 15:…\n",
            "$ image        <dbl> 0, 0, 0, 0, 0, 0, 0, 0, 0, 0, 0, 0, 0, 0, 0, 0, 0, 0, 0, …\n",
            "$ attach       <dbl> 0, 0, 2, 0, 0, 0, 0, 0, 0, 0, 0, 0, 0, 2, 0, 0, 0, 1, 0, …\n",
            "$ dollar       <dbl> 0, 0, 0, 0, 9, 0, 0, 0, 0, 23, 4, 0, 3, 2, 0, 0, 0, 0, 0,…\n",
            "$ winner       <fct> no, no, no, no, no, no, no, no, no, no, no, no, yes, no, …\n",
            "$ inherit      <dbl> 0, 0, 0, 0, 0, 0, 0, 0, 0, 0, 0, 0, 0, 0, 0, 0, 0, 0, 0, …\n",
            "$ viagra       <dbl> 0, 0, 0, 0, 0, 0, 0, 0, 0, 0, 0, 0, 0, 0, 0, 0, 0, 0, 0, …\n",
            "$ password     <dbl> 0, 0, 0, 0, 1, 0, 0, 0, 0, 0, 0, 2, 0, 0, 0, 0, 0, 0, 8, …\n",
            "$ num_char     <dbl> 21.705, 7.011, 0.631, 2.454, 41.623, 0.057, 0.809, 5.229,…\n",
            "$ line_breaks  <int> 551, 183, 28, 61, 1088, 5, 17, 88, 242, 578, 1167, 198, 7…\n",
            "$ format       <fct> 1, 1, 0, 0, 1, 0, 0, 1, 1, 1, 1, 1, 1, 0, 1, 1, 1, 0, 1, …\n",
            "$ re_subj      <fct> 1, 0, 0, 0, 0, 0, 0, 1, 1, 0, 0, 0, 0, 0, 0, 1, 1, 0, 0, …\n",
            "$ exclaim_subj <dbl> 0, 0, 0, 0, 0, 0, 0, 0, 1, 0, 0, 0, 0, 0, 0, 0, 0, 0, 0, …\n",
            "$ urgent_subj  <fct> 0, 0, 0, 0, 0, 0, 0, 0, 0, 0, 0, 0, 0, 0, 0, 0, 0, 0, 0, …\n",
            "$ exclaim_mess <dbl> 8, 1, 2, 1, 43, 0, 0, 2, 22, 3, 13, 1, 2, 2, 21, 10, 0, 0…\n",
            "$ number       <fct> small, big, none, small, small, small, small, small, smal…\n"
          ]
        }
      ]
    },
    {
      "cell_type": "code",
      "source": [
        "%%R\n",
        "glimpse(email50)"
      ],
      "metadata": {
        "id": "Gnvr_C13x6PA",
        "colab": {
          "base_uri": "https://localhost:8080/"
        },
        "outputId": "42076d68-aba6-456b-fc49-f77cd2b8a769"
      },
      "execution_count": null,
      "outputs": [
        {
          "output_type": "stream",
          "name": "stdout",
          "text": [
            "Rows: 50\n",
            "Columns: 21\n",
            "$ spam         <fct> 0, 0, 1, 0, 0, 0, 0, 0, 0, 0, 0, 0, 1, 1, 0, 0, 0, 1, 0, …\n",
            "$ to_multiple  <fct> 0, 0, 0, 0, 0, 0, 0, 0, 0, 0, 0, 0, 0, 1, 0, 0, 0, 0, 0, …\n",
            "$ from         <fct> 1, 1, 1, 1, 1, 1, 1, 1, 1, 1, 1, 1, 1, 1, 1, 1, 1, 1, 1, …\n",
            "$ cc           <int> 0, 0, 4, 0, 0, 0, 0, 0, 1, 0, 0, 0, 0, 0, 0, 0, 0, 0, 1, …\n",
            "$ sent_email   <fct> 1, 0, 0, 0, 0, 0, 0, 1, 1, 0, 0, 0, 0, 0, 0, 1, 1, 0, 1, …\n",
            "$ time         <dttm> 2012-01-04 13:19:16, 2012-02-16 20:10:06, 2012-01-04 15:…\n",
            "$ image        <dbl> 0, 0, 0, 0, 0, 0, 0, 0, 0, 0, 0, 0, 0, 0, 0, 0, 0, 0, 0, …\n",
            "$ attach       <dbl> 0, 0, 2, 0, 0, 0, 0, 0, 0, 0, 0, 0, 0, 2, 0, 0, 0, 1, 0, …\n",
            "$ dollar       <dbl> 0, 0, 0, 0, 9, 0, 0, 0, 0, 23, 4, 0, 3, 2, 0, 0, 0, 0, 0,…\n",
            "$ winner       <fct> no, no, no, no, no, no, no, no, no, no, no, no, yes, no, …\n",
            "$ inherit      <dbl> 0, 0, 0, 0, 0, 0, 0, 0, 0, 0, 0, 0, 0, 0, 0, 0, 0, 0, 0, …\n",
            "$ viagra       <dbl> 0, 0, 0, 0, 0, 0, 0, 0, 0, 0, 0, 0, 0, 0, 0, 0, 0, 0, 0, …\n",
            "$ password     <dbl> 0, 0, 0, 0, 1, 0, 0, 0, 0, 0, 0, 2, 0, 0, 0, 0, 0, 0, 8, …\n",
            "$ num_char     <dbl> 21.705, 7.011, 0.631, 2.454, 41.623, 0.057, 0.809, 5.229,…\n",
            "$ line_breaks  <int> 551, 183, 28, 61, 1088, 5, 17, 88, 242, 578, 1167, 198, 7…\n",
            "$ format       <fct> 1, 1, 0, 0, 1, 0, 0, 1, 1, 1, 1, 1, 1, 0, 1, 1, 1, 0, 1, …\n",
            "$ re_subj      <fct> 1, 0, 0, 0, 0, 0, 0, 1, 1, 0, 0, 0, 0, 0, 0, 1, 1, 0, 0, …\n",
            "$ exclaim_subj <dbl> 0, 0, 0, 0, 0, 0, 0, 0, 1, 0, 0, 0, 0, 0, 0, 0, 0, 0, 0, …\n",
            "$ urgent_subj  <fct> 0, 0, 0, 0, 0, 0, 0, 0, 0, 0, 0, 0, 0, 0, 0, 0, 0, 0, 0, …\n",
            "$ exclaim_mess <dbl> 8, 1, 2, 1, 43, 0, 0, 2, 22, 3, 13, 1, 2, 2, 21, 10, 0, 0…\n",
            "$ number       <fct> small, big, none, small, small, small, small, small, smal…\n"
          ]
        }
      ]
    },
    {
      "cell_type": "markdown",
      "source": [
        "Rezultatul apelării funcției ne indică că avem un cadru de date care include 50 de observații (rânduri) și 21 variabile (coloane). De asemenea, acesta listează variabilele și tipurile acestora, împreună cu valoriile primelor obsevații."
      ],
      "metadata": {
        "id": "qTHBRgk8-qzF"
      }
    },
    {
      "cell_type": "markdown",
      "source": [
        "### Tipurile de variabile"
      ],
      "metadata": {
        "id": "nvmwVAK---5d"
      }
    },
    {
      "cell_type": "markdown",
      "source": [
        "Atunci când începem să lucrăm cu un set de date, este o practică comună să luăm notă despre dimensiunea acestuia - numărul de observații și numărul de variabile. În continuare, vom vedea cum se clasifică variabilele în tipuri **numerice** și **categoriale**. Acesta este un pas important, deoarece determinarea tipului de variabilă ne permite să stabilim ce statistici sumare utilizăm, ce tipuri de vizualizări vom face și ce metode statistice vor fi potrivite pentru a răspunde la întrebările din cercetarea noastră.\n",
        "\n",
        "În general, avem două tipuri de variabile: numerice și categorile.\n",
        "\n",
        "* numerice, sau cantitative, sunt variabilele care iau valori numerice. Putem să adunăm, scădem, calcula media și alte tipuri de calcule cu aceste valori.\n",
        "* categoriale, calitative, sunt variabilele care iau un număr limitat de categorii distincte. Nu putem efectua operații aritmetice cu ele."
      ],
      "metadata": {
        "id": "C-XOKeUd_D9B"
      }
    },
    {
      "cell_type": "markdown",
      "source": [
        "### Datele numerice"
      ],
      "metadata": {
        "id": "eyoy49jDDE6W"
      }
    },
    {
      "cell_type": "markdown",
      "source": [
        "Variabilele numerice ulterior pot fi categorizate în **continue** și **discrete**.\n",
        "\n",
        "* **numerice continue** sunt variabilele care pot lua un număr infinit de valori într-un interval anumit (de exemplu, înălțimea oamenilor).\n",
        "* **numerice discrete** sunt variabilele care iau unele dintr-un set specific de valori numerice, în care putem număra sau enumăra toate posibilitățile. De exemlu, numărul de oameni într-o populație (în general, datele de enumerare sunt un exemplu de date discrete).\n",
        "\n",
        "Când se determină dacă o variabilă numerică este continuă sau discretă, este important să ne gândim la natura variabilei și nu doar la valoarea observată, deoarece rotungirea variabilelor continue le transformă în discrete. De exemplu, înălțimea este o variabilă continuă, totuși avem tendința de a raporta înălțimea noastră rotungită la cea mai apropiată unitate de măsură, cum ar fi inci sau centimetri."
      ],
      "metadata": {
        "id": "VY8_sxBUDJdu"
      }
    },
    {
      "cell_type": "markdown",
      "source": [
        "### Datele categoriale"
      ],
      "metadata": {
        "id": "Y2EIrCxFoYDo"
      }
    },
    {
      "cell_type": "markdown",
      "source": [
        "Variabilele categoriale care au nivele ordonate se numersc **ordinale**. Dacă analiză o analiză de sondaj pentru satisfacția unor clienți, vom primi următoarele principalele categorii: foarte nesatisfăcut, nesatisfăcut, neutru, mulțumit și foarte mulțumit. Aceste nivele au o odonare inerentă, prin urmare este o variabilă ordinală.\n",
        "\n",
        "Dacă nivelele unei varibile categoriale nu au o ordonare inerentă, atunci variabila se numește pur și simplu categorială. De exemplu, consumi sau nu consumi cofeină?"
      ],
      "metadata": {
        "id": "ly4Rgzalodzr"
      }
    },
    {
      "cell_type": "markdown",
      "source": [
        "### Variabilele din setul de date `hsb2`"
      ],
      "metadata": {
        "id": "DowdwUq6pZiA"
      }
    },
    {
      "cell_type": "markdown",
      "source": [
        "Să mai analizăm o dată setul de date `hsb2`:"
      ],
      "metadata": {
        "id": "ZMc8XbYVpfgu"
      }
    },
    {
      "cell_type": "code",
      "source": [
        "%%R\n",
        "glimpse(hsb2)"
      ],
      "metadata": {
        "colab": {
          "base_uri": "https://localhost:8080/"
        },
        "id": "TGgzieDupobD",
        "outputId": "43e77410-937f-4919-eaa7-788aa2e35616"
      },
      "execution_count": null,
      "outputs": [
        {
          "output_type": "stream",
          "name": "stdout",
          "text": [
            "Rows: 200\n",
            "Columns: 11\n",
            "$ id      <int> 70, 121, 86, 141, 172, 113, 50, 11, 84, 48, 75, 60, 95, 104, 3…\n",
            "$ gender  <chr> \"male\", \"female\", \"male\", \"male\", \"male\", \"male\", \"male\", \"mal…\n",
            "$ race    <chr> \"white\", \"white\", \"white\", \"white\", \"white\", \"white\", \"african…\n",
            "$ ses     <fct> low, middle, high, high, middle, middle, middle, middle, middl…\n",
            "$ schtyp  <fct> public, public, public, public, public, public, public, public…\n",
            "$ prog    <fct> general, vocational, general, vocational, academic, academic, …\n",
            "$ read    <int> 57, 68, 44, 63, 47, 44, 50, 34, 63, 57, 60, 57, 73, 54, 45, 42…\n",
            "$ write   <int> 52, 59, 33, 44, 52, 52, 59, 46, 57, 55, 46, 65, 60, 63, 57, 49…\n",
            "$ math    <int> 41, 53, 54, 47, 57, 51, 42, 45, 54, 52, 51, 51, 71, 57, 50, 43…\n",
            "$ science <int> 47, 63, 58, 53, 53, 63, 53, 39, 58, 50, 53, 63, 61, 55, 31, 50…\n",
            "$ socst   <int> 57, 61, 31, 56, 61, 61, 61, 36, 51, 51, 61, 61, 71, 46, 56, 56…\n"
          ]
        }
      ]
    },
    {
      "cell_type": "markdown",
      "source": [
        "Prima variabilă este este `id`, care reprezintă variabila identificatoare pentru student."
      ],
      "metadata": {
        "id": "mZxkA39Xj4Ik"
      }
    },
    {
      "cell_type": "markdown",
      "source": [
        "![Screenshot 2022-08-18 at 09.08.23.png](data:image/png;base64,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)"
      ],
      "metadata": {
        "id": "83uGlwA6kX1x"
      }
    },
    {
      "cell_type": "markdown",
      "source": [
        "Strict vorbind, aceasta este o variabilă categorială și în același timp, această variabilă nu este foarte utilă deoarece nu o putem utiliza pentru analiza relațiilor dintre variabilele setului de date."
      ],
      "metadata": {
        "id": "DbAUcHqXkoM6"
      }
    },
    {
      "cell_type": "markdown",
      "source": [
        "Următoarea variabilă este `gender`, o variabilă categorială cu două nivele 'male' și 'female'. Nu există o ordonare inerentă a nivelulurilor acestei variabile, corespunzător este doar o variabilă categorială. Același lucru este valabil și pentru variabila `race`."
      ],
      "metadata": {
        "id": "ZnihGvr1lBIB"
      }
    },
    {
      "cell_type": "markdown",
      "source": [
        "![Screenshot 2022-08-18 at 09.15.24.png](data:image/png;base64,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)"
      ],
      "metadata": {
        "id": "_aw5k-xnl8Yx"
      }
    },
    {
      "cell_type": "markdown",
      "source": [
        "Statutul socio-economic, pe de altp parte, are trei nivele, 'low', 'middle' și 'high', care au o odonare inerentă, prin urmare această variabilă este o variabilă categorială ordinală."
      ],
      "metadata": {
        "id": "-U5FurqkmHhF"
      }
    },
    {
      "cell_type": "markdown",
      "source": [
        "![Screenshot 2022-08-18 at 09.18.29.png](data:image/png;base64,iVBORw0KGgoAAAANSUhEUgAAA48AAABUCAYAAAAieAJ+AAAYfmlDQ1BJQ0MgUHJvZmlsZQAAWIWVeQdUVMuydu/JM+QZcs4ZJOecc84gAkMakjBEAUUQUYIiiICgqIhEFRUFVARBDChKUBAREUSCigJ6QCXI2wQ95577r/+t12v17m+qq6uqq0Ptmg0A14hvZGQYghGA8IgYqoOpAb+buwc/dgqgAC8AQASo+ZKjI/Xt7KzgX+B3+59laRBAG+1zmQ1Z/93//y1E/4BoMgCQF4z9/KPJ4TC+CwDqFDmSGgMAZoMuFB8TuYH3w5iZChsI44INHLSFqzew3xZu2eRxcjCEcS8AOFpfX2oQAPQjMJ0/jhwEy6FfhfuIEf6UCABY4JljdMjBvv4AcNnBPNLh4bs3cDKMxWH+SBhXwFjN7x8yg/5Dvt8f+b6+QX/w1rw2C86IEh0Z5rvn/+ia/72Eh8X+1iEKV9pgqpnDxvxhHw6F7rbcwLQwno3ws7Hd8DWMf1D8t/wOAIIQHGvmvMWP4CZHG8L+A6wwlvP3NbKEMTeMTSLCbKy26X6BFBNzGMM+QyRQYsydYMwO48MB0caO2zxnqbsdtnUhGgOphvrb9Ee+1E29G7pGY0Od9bflfw0OMN+Wj6RPDHZyhTEBxsJxFBcbGNPDWDY61NFym0crMdjQ5jcPNdZhw35hGDsERJgabMlHxgVSTRy2+bPCo3/PF3k2mGJus42vxQQ7mW35B9lJ9t20H54LsjcgQt/5t5yAaDer33PxDzAy3po7ciYgwtlxW86PyBgDh62xKEJkmN02P0owIMx0gy4IY6XoOMftsSiXGHhzbslHBUbG2Dlt2YlKDPG1sNuyB3UMWAFDYAT4QSxc/cBuEAIoz2abZuFfWz0mwBdQQRAIADLblN8jXDd7IuCnI0gEn2EUAKL/jDPY7A0AcTB97Q916ykDAjd74zZHhIIpGIcDSxAG/47dHBXxR5sLeA9TKP+l3ReuZNjeMLhu9P+/6b+pf1P0YYrVNiX2t0Z+ht+cGGOMEcYMY4KRQHGidFCaKCv4qQdXBZQaSv33PP7mR0+h+9Dv0APoMfSrXZQ06r+stAZjsHyTbV/4/dMXKFFYpjLKAKUNS4clo1hRnEAGpQTr0UfpwpqVYarhtt0bXuH/l+z/mME/VmObDy+HR+DZ8Hp48X+PpJekV/4jZcPX//TPlq1+f/xt+Kfn3/oN/+F9f7i1/Dcn8jCyAfkQ2Y7sQrYgmwA/sg3ZjOxG3tnAf3bX+83d9Vubw6Y9obAcyn/p+72yG56MlquT+yC3utUXE5AQs3HwDHdH7qFSgoJj+PXh6BDAbx5BlpXmV5BTUABgI9ZsXV/fHDZjCMTa8zeNfBAA1XkA8Mt/08K/AXAFPvv81n/TRLzh44cBoHqKHEuN26KhNh5o+JZggE8aBxzLhIA4PB8FoAI0gR4wBhbAFjgBd+ANWx8M73MqiAfJIBVkgGxwDJwAJeAMOA+qwSVwDTSBFtAOHoAnoBcMgNfw7pkEn8A8WAIrEARhITqIBHFAfJAIJAUpQGqQDmQMWUEOkDvkAwVBEVAslAwdgLKhfKgEOgfVQFehm1A71AX1Qa+gcegD9BVaRiARtAhmBA9CFLEDoYbQR1ginBA7EUGIKEQiIh1xFFGMKEdcRDQi2hFPEAOIMcQnxCISIGmQrEgBpAxSDWmItEV6IAORVOQ+ZBayEFmOvIy8Ba/zc+QYchb5E4VBkVD8KBl4B5uhnFFkVBRqHyoHVYKqRjWiOlHPUeOoedQvNB2aGy2F1kCbo93QQeh4dAa6EF2JvoG+D5+lSfQSBoNhxYhhVOGz6I4JwSRhcjCnMfWYu5g+zARmEYvFcmClsNpYW6wvNgabgT2JvYhtw/ZjJ7E/cDQ4PpwCzgTngYvApeEKcbW4Vlw/bhq3gmfEi+A18LZ4f/wefC6+An8L34OfxK8QmAhiBG2CEyGEkEooJlwm3CeMEL7R0NAI0qjT2NNQaPbTFNNcoXlEM07zk5ZIK0lrSOtFG0t7lLaK9i7tK9pvdHR0onR6dB50MXRH6Wro7tGN0v2gJ9HL0pvT+9On0JfSN9L3039hwDOIMOgzeDMkMhQyNDD0MMwy4hlFGQ0ZfRn3MZYy3mR8ybjIRGKSZ7JlCmfKYapl6mKaIWKJokRjoj8xnXieeI84QUKShEiGJDLpAKmCdJ80yYxhFmM2Zw5hzma+xPyMeZ6FyKLE4sKSwFLKcodljBXJKspqzhrGmst6jXWQdZmNh02fLYAtk+0yWz/bd3Yudj32APYs9nr2AfZlDn4OY45QjjyOJo43nChOSU57znjOMs77nLNczFyaXGSuLK5rXMPcCG5JbgfuJO7z3N3cizy8PKY8kTwnee7xzPKy8urxhvAW8LbyfuAj8enwUfgK+Nr4PvKz8Ovzh/EX83fyzwtwC5gJxAqcE3gmsCIoJugsmCZYL/hGiCCkJhQoVCDUITQvzCdsLZwsXCc8LIIXURMJFikSeSjyXVRM1FX0kGiT6IwYu5i5WKJYndiIOJ24rniUeLn4CwmMhJpEqMRpiV5JhKSyZLBkqWSPFEJKRYoidVqqTxotrS4dIV0u/VKGVkZfJk6mTmZcllXWSjZNtkn2yw7hHR478nY83PFLTlkuTK5C7rU8Ud5CPk3+lvxXBUkFskKpwgtFOkUTxRTFZsUFJSmlAKUypSFlkrK18iHlDuU1FVUVqspllQ+qwqo+qqdUX6oxq9mp5ag9UkerG6inqLeo/9RQ0YjRuKYxpymjGapZqzmjJaYVoFWhNaEtqO2rfU57TIdfx0fnrM6YroCur2657js9IT1/vUq9aX0J/RD9i/pfDOQMqAY3DL4bahjuNbxrhDQyNcoyemZMNHY2LjEeNRE0CTKpM5k3VTZNMr1rhjazNMsze2nOY042rzGft1C12GvRaUlr6WhZYvnOStKKanXLGmFtYX3cesRGxCbCpskW2JrbHrd9YydmF2V32x5jb2dfaj/lIO+Q7PDQkeS4y7HWccnJwCnX6bWzuHOsc4cLg4uXS43Ld1cj13zXMbcdbnvdnrhzulPcmz2wHi4elR6LnsaeJzwnvZS9MrwGd4rtTNjZ5c3pHeZ9ZxfDLt9dDT5oH1efWp9VX1vfct9FP3O/U37zZENyEfmTv55/gf+HAO2A/IDpQO3A/MCZIO2g40EfgnWDC4NnKYaUEspCiFnImZDvobahVaHrYa5h9eG4cJ/wmxHEiNCIzt28uxN290VKRWZEjkVpRJ2ImqdaUiujoeid0c0xzPBLfXeseOzB2PE4nbjSuB/xLvENCUwJEQndeyT3ZO6ZTjRJvJCESiIndSQLJKcmj+/V33tuH7TPb19HilBKesrkftP91amE1NDUp2lyaflpfx1wPXArnSd9f/rEQdODdRn0GdSMl4c0D505jDpMOfwsUzHzZOavLP+sx9ly2YXZqznknMdH5I8UH1k/Gnj0Wa5KbtkxzLGIY4N5unnV+Uz5ifkTx62PNxbwF2QV/HVi14muQqXCM0WEotiisWKr4uaTwiePnVwtCS4ZKDUorT/FfSrz1PfT/qf7y/TKLp/hOZN9Zvks5ezQOdNzjeWi5YXnMefjzk9VuFQ8vKB2oaaSszK7cq0qomqs2qG6s0a1pqaWuza3DlEXW/fhotfF3ktGl5ovy1w+V89an30FXIm98vGqz9XBa5bXOhrUGi5fF7l+6gbpRlYj1Lincb4puGms2b2576bFzY5bmrdu3Ja9XdUi0FJ6h+VObiuhNb11vS2xbfFu5N3Z9qD2iY5dHa/vud170Wnf+ey+5f1HD0we3Huo/7Dtkfajli6NrpuP1R43PVF50tit3H3jqfLTG89UnjX2qPY096r33urT6mvt1+1vf270/MEL8xdPBmwG+gadB4deer0cG/IfmnkV9mphOG545fX+EfRI1hvGN4Wj3KPlbyXe1o+pjN0ZNxrvfuf47vUEeeLT++j3q5PpU3RThdN80zUzCjMtH0w+9H70/Dj5KfLTymzGZ6bPp76If7k+pzfXPe82P7lAXVj/mvON41vVX0p/dSzaLY4uhS+tfM/6wfGj+qfaz4fLrsvTK/Gr2NXiNYm1W78sf42sh6+vR/pSfTdfBZBwRQQGAvC1CgA6dwBIcN5G8NzKBbcLEn75QMCtCyQLfUKkwxG1B5WBNsEgMU+wxbgIvBVBggZLM0vbT9dEX8VQyVjP1EzsID1h7mUZYn3LNsP+iWOBc5lrjQfBi+Uj8NMJEAWJQqzC7CJsouxi3OI8EvyS/FKC0sIyorJiO6Tl5OQVFVQUNZR0lY1VzFXN1UzUTTRMNA219LW1dDR0lfRk9UUNeAyZjQhG68bfTKZMX5l1m7dYVFset0qxDrFxszW2U7YXc+ByZHTCOSNdIFeEG8od78HoyeElvFPGW2KXsA+fL6cfC5nkTwwgBbIGcQULUqRDVENNwlzCKRHJu/MjK6LOUouj82JyYjPjsuKPJhTvqU5sTXq9F+yTTtm1/2Tq6wOC6bsPth/CHBbKVMgyyHbMCTySeDQvt/rY3bzh/MUCphMyhRZFgcUHTpaV3CztP/X+9OIZ7FmOc5LlWudtK/wuxFQerCqsrq65Wfu4bvjix0s/63FX2K6KX9NtcL8edSOz8XRTfXPbza5bPbd7W57c6Wi92lZ6N6V9V4fGPeK9qc6b92sfnHqY/Sihy++x+RPZbvru2af3n53qiew16CP1TfRfe576wn5AZBA1+OFl91D9q/zhmNcuI2pvON+sjo6+bR+7MJ75bveE83utSWF4ly1Nv5i5/qHoY8qnsFnyZ/KXyLns+RsLc9/0/jq3RPpe/FNq+dlqyi+N9fV/rL8CcgaVj7bEsGDeYBtwOfggghGNJC0D7SrdNP0QwxDjW6b3xM+kb8xLLGusK2xr7L841jiXuL5xz/FM8Y7w9fPfF7gpWCmULRwmYiUqKYYX+yjeJVEjmSVFkbaUkZGlk53b0Sd3Xb5IIVmRrGSvbKCioCqgRlRbV/+iMaLZpdWoXa6Toxuv56NvYaBgyGmEMPpg/MzkimmeWbS5k4WKJZvlitVb63s2tbZ5dkn2gQ6OjvpO8s4CLiRXrOuy2yf3EY9uzzte9TvPeh/fdcgn2ZfqRyH7+nsEOAXaB9kEW1IsQ8xCNcNkwwUiWHbTRCIiV6N+UH9Gr8Wi44jxQgkae5wSo5MKk1v2TqXQ7OdLlUnTPmCT7ncwPuPIocrDbZnDWd9zmI8oHLXPjTh2JK8u/9Hx9wXrhZxFysV2J0NLDpaeOdV8urds5syvc8zlEue1K+wukCtjqw5VF8P3XHfd3CXiZcV6xytRV3Ov1TV0Xh+58bUJ08xxU/KWxm2LFrc7ga0xbSl3U9sPdBy8l9F56P7hB1kPcx4d6Try+MiTI905T7OfZfYc6k3vS+3f+zzuRdTA7sHIlzFDSa8ODh9/XT7S8ObB6Ku3n8fBO+KE4Hv5SZ0p82m/mbMfPn9Snk363Prl17zmQtzXy9/eL7IvWX5P+dHwc3qFe9VhLetX5/b6GyP0kTuQX1Dt6EMYR6w4dgF3E59BcKDhphmlPU8XTq/OgGBoZ0xnsiAyEHtJx5htWRhYnrJmsZmwQ+zNHBGcQpxDXNncOtyfeUp5zXj/4ivjN+P/IlAgqCE4IrRXmF+4VcRbZFW0WExJrFs8QHxV4riklGSblKPUlHSqjIjMkGzODoMdf8lVyXsq0Cm0KUYqCSj1K6epKKiMq+aqaat9Vi/VMNdY1DyvZa/1S7tOx10Xq3tDj6xP1L9rEGnIb9hrlGasZDxtUmJqC7933DaPspCyeG9ZZuVhzWr93Cbf1sGOZDdof9LB21HY8aPTVedEF2NXBtdht0r3aA8DT1rPQa8zO4O9FbxXdt33yfP18pPwWyJ3+h8P8A1UDEIFDQbXUlJCnEKlw9Bhb8NvRRTvjo90jdKg8kajomdjBmLb4+rjyxJy96QmxieFJvvv3bnPLcVpv0OqfZr9AYd0p4PuGTsPBRwOzYzOSsk+nJN/pOxoTW7jsXt5ffmjx7+cQBVKFHkVHzt5v2TllOxpv7ITZx6fXS1XOB9QUXKhpwpVrVUTX1tf9+mS5OWQ+torc9dUGvZf727kaApr7rzFdzul5V2rVVtLu3zHxU6p+1cfGjwafpzQzfe0t+dIn9Nz0QEw+Gno/fDHN+CtyPiuidop9EziJ/C5Yp78TXdJ7afzavHG+m/9J7hRMCoAnDgEwMb/PA41AORcBEBsDwBscO5pRweAkzpACJgCaLEDQBbaf+IHBCeeBEACPEASqAEzOL8Mg3PKIlAPusAEWIPYIWXIEYqGTkDN0Bs455NGuCBSEfWIUSQD0gAZj7yEnIKzNC9UKeo1nIn5oC+gP2NUMKmYZ1gebDi2DUfCUXDteE58LL6foEgoIqzSkGme0qrTVtOx0+XQI+iT6L8zxDIsMSYyQUxZRFZiBUmN1MscwoJlucBqzDrFdphdir2XI4aTg7OVy5+bhvsajwcvkvcSnyecEfQJ5AraCjEJPRcuEvEUFRCdErsoHi2hIQlJdknlSXvCu3Netn9Hi1ylfL7CPkWKkqOyhgqfKqQ6ptaiXqARoqmtRa81ol2jE6Orq4fT69NvMLhu2GR0y7jV5J5pl1mP+aDFqOW01YL1ii3OjtVe1EHN0cqJ7JzsUuza6jbjQfLU94rcWe494EPw1fdLIjf7fw9UC0oKbg8hhDqHVYQv7jaLLIuai9aKyY4djVdKOLZnIck1+cE+7ZTWVMu0ifTMDO3DILMv+8qRU7n5eWbHkQX3C/OKA0oMT0mXCZ4VKVeqsKmMqi6tfXIJ1KtetWlwvxHclHzzxO1rd/rbljp4O80exDw6+/hZ91qPTN/O50cH7g6Rhskjl0Znx7kn1Cb1puU/0H98OXv0y4659gWzr51/KSyWLC3/sP95YXlhVWMt5dfdzftja/2J8PpLAFVgAlxBCNgHCkAd6ASj4AdEguQgGygCOgY1QK8QACEBZ/lpiKuId3Aeb4VMR7YhV1DaqAOobjQ7OhDdiMFjvDGNWEZsGPYJThqXi1vEe+EfEGQJRTRImiiacVpn2sd0hnSt9Fr0d+As9hGjPeMonKeuEwtIsqSnzBFw5tnM6stGw9bMHsjByvGQcw+XNNc4dxGPLS+Ot4NvP7+BAEbgqWChkK+wrPCqSLdomViUuLEEl8RXycdS56VTZDxlNXdIyLHL4+VXFeYUJ5ReKj9Wua16Ua1E/ZAGVdNTy1BbUodRZ1F3WK9Vv97gqmGDUZPxbZM2006zx+a9Fi8t31pNWy/YrNjh7FkdxBzVnayd/V32upa43XQf9ljzEtxp4R2z66xPjx9EVvGPCKgJnAoWpYSEXA1dDjeNKNw9E6VF3RvdFouKs4ovSphKVE86mjy9zzilOpU+bc+Bafg+6T1skfkw2yyn+6hD7lheynHegruFgcX0J5tL/U+Tyh6c3Vuucv7rhatVsTVadZiLA5cvXEm+5nVdpZG+aeLm9dsH7ti0sd8d76jppD7QeoTtGnxS83R/j1efznORAabBR0POryZfJ75hHr025jS+OlE96T7NMNP18fCs5RfGuZcLZ7+FLKp8R/zoWS5dDfqluL3+SIABtJs3gDhQgXeAGwgHB8EZcBsMw+dfELKAYqEKaBBBgzCCT34HEoe0R55BfkVZoKrQeDQV/RbjBJ92G+wAjoz7iS8kqBMmaU7S6tGO0CXR89N3McQzSjJOMJ0h+pEkSN+ZH7KUsSaxebLrcUhxsnPRcCO4V3mWeVf5gQAWfgPlEZYV0RZ1EAsS3y9xUvIGnHfPyzLuUJBzld+nUKHYo7SiIqHqrpav3q/JrOWuXaEzp6etf8TgrZGicbbJuJmWeaHFVys760u2tHZh9o8dJZ2ynT+6WrjVeuA9KV4PvUV3HfSZ9DMkVwYgA/2D7lFEQzJCZ8KtIuojWaISqGMxRrGX49kT9u35lOQGn1OVlKpUjrSj6aiDyRlfD3tkXs1az3E6UnV0+Zhj3uXjhALKiQdFUsU5J+dKXU/dKRM9kwff/f7nuy9oVlZVM9Uk1k5ddLzUUi96JffqUoP39QeNMk3Hmudv2d++fIfQGtjW2k7sCLjXeB/1wO5h6aOJxxJPKN2VT8d7OHvt+w72X3/+boAwKPfSYYj66uhwzet7IwNvpkYX3q6OQ++wE5j3mEkwuTz1eXp05umH5o/lnw7PRny2/iI1h517O9+8kPnV45vEt69/tSymLRl9x3zv/JHyU/PnwvKFFY9VwmrjGvkX3a9r6+4b6x8dqKiwGT4gWgMA0KPr699EAcDmA7CWt76+Ur6+vnYeTjZGALgbtvWdaTPWMAJwlmsD9V359uLf33i2vkH9I4/5dws2I9GmVjgSbbZwVAL/Az565VamZ5h2AAAAVmVYSWZNTQAqAAAACAABh2kABAAAAAEAAAAaAAAAAAADkoYABwAAABIAAABEoAIABAAAAAEAAAOPoAMABAAAAAEAAABUAAAAAEFTQ0lJAAAAU2NyZWVuc2hvdMLIM9IAAAHVaVRYdFhNTDpjb20uYWRvYmUueG1wAAAAAAA8eDp4bXBtZXRhIHhtbG5zOng9ImFkb2JlOm5zOm1ldGEvIiB4OnhtcHRrPSJYTVAgQ29yZSA2LjAuMCI+CiAgIDxyZGY6UkRGIHhtbG5zOnJkZj0iaHR0cDovL3d3dy53My5vcmcvMTk5OS8wMi8yMi1yZGYtc3ludGF4LW5zIyI+CiAgICAgIDxyZGY6RGVzY3JpcHRpb24gcmRmOmFib3V0PSIiCiAgICAgICAgICAgIHhtbG5zOmV4aWY9Imh0dHA6Ly9ucy5hZG9iZS5jb20vZXhpZi8xLjAvIj4KICAgICAgICAgPGV4aWY6UGl4ZWxZRGltZW5zaW9uPjg0PC9leGlmOlBpeGVsWURpbWVuc2lvbj4KICAgICAgICAgPGV4aWY6UGl4ZWxYRGltZW5zaW9uPjkxMTwvZXhpZjpQaXhlbFhEaW1lbnNpb24+CiAgICAgICAgIDxleGlmOlVzZXJDb21tZW50PlNjcmVlbnNob3Q8L2V4aWY6VXNlckNvbW1lbnQ+CiAgICAgIDwvcmRmOkRlc2NyaXB0aW9uPgogICA8L3JkZjpSREY+CjwveDp4bXBtZXRhPgqfBlV+AAAn9klEQVR4Ae2dC7xWU/7/v12VhC6UW8VgaEpNmSnVdFOalFuNqCG6iC66MF004xYphMKQSxhCjIQGMVKIpJhJKqWacslQKSUlmue33+v/X8c+T8/z7Oc55zyd0zmf9Xqds/ez195rr/Ve+1l7fdb3u9ZTKhYEUxABERABERABERABERABERABERCBFARKp4hTlAiIgAiIgAiIgAiIgAiIgAiIgAg4AhKPehBEQAREQAREQAREQAREQAREQAQiCUg8RiLSCSIgAiIgAiIgAiIgAiIgAiIgAmWTIVi3bl2yKB0XAREQAREQAREQAREQAREQAREoxgRq1669R+mSikfOTHTBHinogAiIgAiIgAiIgAiIgAiIgAiIQLEhkMyQKLfVYlPFKogIiIAIiIAIiIAIiIAIiIAIZI+AxGP22CplERABERABERABERABERABESg2BCQei01VqiAiIAIiIAIiIAIiIAIiIAIikD0CEo/ZY6uURUAEREAEREAEREAEREAERKDYEJB4LDZVqYKIgAiIgAiIgAiIgAiIgAiIQPYISDxmj61SFgEREAEREAEREAEREAEREIFiQ0DisdhUpQoiAiIgAiIgAiIgAiIgAiIgAtkjIPGYPbZKWQREQAREQAREQAREQAREQASKDQGJx2JTlSqICIiACIiACIiACIiACIiACGSPgMRj9tgqZREQAREQAREQAREQAREQAREoNgQkHotNVaogIiACIiACIiACIiACIiACIpA9AhKP2WOrlEVABERABERABERABERABESg2BAocPH4v//9z8Hx2zCpWCyW8zFRfE6kdkRABERABERABERABERABERABIoUgQIVj2vWrLG+ffva7t27rXPnzrZz585chX3wwQdt6tSptnDhQhs+fHiuuOL64euvv7a5c+fa+vXrExZx165d9u6779qHH35oYXHtT960aVPK6/152oqACIiACIiACIiACIiACIhANgmULcjEX331VWvYsKEtWLDAatasaRUqVMiV/CuvvGJjxoyxZ555xk4++eRccYk+LF++3B5++OGcqHLlytkRRxxhPXr0sIMPPjjneFHdoZy33367nXjiifbJJ59Yhw4d7M9//nNOdn/88Ue77LLLbMOGDbZjxw479dRT7aqrrsqJX7lypfXr188OO+ww+/TTT23ChAl2yimn5MRrRwREQAREQAREQAREQAREQAT2FoECtTwiHtu1a2dsEUrhgBDCynbcccc5SxrnRYUaNWrYUUcdZYsWLbIWLVpYrVq1bNasWbkEWFQa6cZnw432gw8+cGJwypQphtX1+eefNyyRPixdutQ+//xzmzZtmt1///02Y8YM+/777320vfDCC9ayZUt78skn7aKLLrKnn346J047IiACIiACIiACIiACIiACIrA3CeTb8vj222/b448/bj/99JOzjt19993OBXP16tW2bt06Z338+OOPnXUNYYQlje21115rXbt2dda2ZAWuWrWqNW/e3F5++WU788wz3WmIz1GjRjkhWr58ecM6OXHiRFu2bJlhmWzSpIkNGzbMuc4OHDjQEIUIsCuuuMJdP3jwYJdPROldd93lRNtrr73m3EoPOeQQ2759uxOopUv/rKunT59uK1assN69ezuLarL8xh8fO3aslSpVyh2uXr26c0vFgnjooYe6Y0uWLLF69epZpUqV7JhjjjHOoRzeKosr6/nnn+/Obdq0qcRjPGB9FgEREAEREAEREAEREAER2GsE8i0eGzdu7KyDkydPdu6kCCAE2+jRo50oQjxt27bNevXqZePGjbOHHnrIBgwYYK1bt3ZiKZ2SIkwRorh3Yo079thjDeHI3MqRI0faSSed5Nxbv/32W7vnnnsMgfjYY48Zgmvt2rXWp08fJ2irVatmV199tXXv3t3OO+88J9SwCD777LN2+OGHO8vfHXfckStLWEtvueUWdy9EH3M60w1eOHI++cJyCi8fEI+IRh+OPvpol0/EI/fFWuvjiduyZYt99tlnjre/RlsREAEREAEREAEREAEREAER2BsE8iUeWeBl5syZxtw9XEtxRZ09e7ZhMZw3b541atTIcN3cuHGjs0yuWrXKFi9e7I6zPeOMM9IqI6KQBXYQgog8LI0ELIabN292rqFY7whYGHHxZI5hp06d7PLLL7fKlSs7kYmVb9CgQU7cNmvWzOUJscs8TIQd+WaOYtjqiEhFCGN5TDe/LiOhfwjH119/3XBfDQvK7777LtfncNwPP/zg8ueP+W2iRXVCt9KuCIiACIiACIiACIiACIiACGSFwM++mXlMHldR3FIRXixig7sqi7pwHBFWtmxZJyTbtGnjBGb9+vWtSpUq7ni6t8RiyHy/8ePHO/dSxCQB4ch9+PPBi0jEV926da1ixYpugR7SeP/9952IY/4keeMPq2KrVq3ceVj6hgwZkmteIumS97PPPtuYg5lpuPfee13eJ02aZFgPw4H04OUD+yw4REDwkncfz0q2MEbkKoiACIiACIiACIiACIiACIjA3iaQL/GINQxRhVtpt27dnHhkxVD2zz33XDv++OPdXEUsj4gy5hP27NnTxXfs2DGtspI21jZcVNu2bevud/3117t5k4hUfg4El9mtW7c6YcmcS+YuIhzJH9cwt5F8seopbrOtA5dZAlbRESNGuHmSV155pZEu1+BO6gNW1S5dujiXXOY+ZhLI19/+9je75pprnPB74oknnKusTwPRyrxGRDBzHXFLxTrqA/FvvPGG+zg3+LkPLyx9vLYiIAIiIAIiIAIiIAIiIAIisLcI5Es8kkkE4fz58619+/b20ksvOVfRcObnzJljDRo0MCyBuJ3iLppueOedd9z8SOY64oJKGDp0qB1wwAGG+GTRG6yRrMCKy+xZZ53lBCRWvv3228+dz3F+BoOFdxBjzMdkLiShTJkyxu8oImhPP/10O+ecc5zIxNLoA5ZTXGVxX8Xyl27gPlhLEb8IVPKGSyxC2gcW8mGBH9xhmZfZv39/dx8fz4I/LAiE2H3uuefcOT5OWxEQAREQAREQAREQAREQARHYmwRKBVa9WKIbskBN7dq1E0XlOsbKqVjHEHP81AQiKTxnEIsa1jwWm8Gi561+uRIpgA+IMgTegQceuEdqiNY6deo4IffVV1+534rkJIqOxRJXVwQq8x/DLrDhhLBAJosLn5eXffLEb2IedNBBe1yOCGWRHARstu6/x011QAREQAREQAREQAREQAREoMQSSKYF8y0eSyxRFVwEREAEREAEREAEREAEREAEiiGBZOIx326rxZCViiQCIiACIiACIiACIiACIiACIhBHQOIxDog+ioAIiIAIiIAIiIAIiIAIiIAI7ElA4nFPJjoiAiIgAiIgAiIgAiIgAiIgAiIQR0DiMQ6IPoqACIiACIiACIiACIiACIiACOxJQOJxTyY6IgIiIAIiIAIiIAIiIAIiIAIiEEdA4jEOiD6KgAiIgAiIgAiIgAiIgAiIgAjsSaDAxSO/S0jw2/Atwz8pmSg+fK72RUAEREAEREAEREAEREAEREAEig6BAhWPa9assb59+9ru3butc+fOtnPnzlwlffDBB23q1Km2cOFCGz58eK64bH348MMP7dFHH3V/y5Yty9ZtCi3dLVu22HvvvVdo99eNRUAEREAEREAEREAEREAESgaBsgVZzFdffdUaNmxoCxYssJo1a1qFChVyJf/KK6/YmDFj7JlnnrGTTz45V1yqD4sWLbInnnjC1q5da4cffriVLVvWrrjiCqtVq1aqy1wc4urzzz+3999/33bs2GF169aNvGZfOaFPnz62ZMkSl10JyH2l1pRPERABERABERABERABEdg3CRSo5RHx2K5dO2PboUOHXERWrlxpu3btsuOOO87mzp3rzst1QpIPb775pg0aNMhOOOEEu+qqq6xy5co2b94827BhQ5Irch9u2bKljR492ho1apQ7IoNP3sXWbxNdGnbJjY9PdV38uZl8HjlypE2ZMiWTS3SuCIiACIiACIiACIiACIiACOSJQL4tj2+//bY9/vjj9tNPP9mnn35qd999t+Equnr1alu3bp2zPn788cdO7H3//ffWr18/Y3vttdda165d7dRTT02acQTZhAkTrGPHju46TmzQoIEtXbrUSpUq5a5bvny5TZw40XBJLVeunDVp0sSGDRtmhx56aNJ0fQR52bhxo02bNs0++ugju+GGG1y6uNZSjnfeecf2228/Vw7E8FtvvWXVq1e3m2++2Y444gi74IIL3D2PPPJIF4fVFXfco48+2t1i/vz59vDDDxvCuXz58lamTBm7+uqrrVmzZj4Ltm3bNrvvvvvsoIMOsksuuSTneDo7xx9/vOEqrCACIiACIiACIiACIiACIiAC2SaQb8tj48aNbdSoUU5U9ejRw5o2bWr16tWzsWPHGm6VCCwsZJs2bXLHEFEDBgxw15xyyikpy/fll1/a+vXrrW3btjnncf0jjzxi9evXd3MrSfuQQw5xIu3WW2+1r7/+2gYPHuzEbM5FSXa4FsGLRZT0brvtNvcZ99ZLL73Uzdk87bTTbODAgfbiiy86UVqjRg0nFMkHFtEVK1bk3L906dL21FNP5dztpptushYtWticOXPszjvvdEI0fh4oAhXxioDELVdBBERABERABERABERABERABIoigXxZHrEMzpw503788UdjXiIuq7Nnz7aqVas611JcRT/44ANn3cMyuWrVKlu8eLFzIWV7xhlnpGTCfEUC4jAcSJ/AHMrNmzc7d9ZKlSq5Y8yFvOiii5y1L2p+YzhdrJZ16tRxafAPSyACkbmZ+++/vz3wwANuEaAvvvjCWSI5ByskcYhVzj3zzDOdsCWO0Lx5c5s+fbqzDh544IEuX4jJcODzhRde6O4Xvn/4HO2LgAiIgAiIgAiIgAiIgAiIQGETyJd4JPOILhZtQdAdfPDBzl21U6dOzv0TSxyL2zBHsU2bNk5gYuGrUqWKOx5V+Nq1a7t03njjDTfnMf58hCP3588HLyJ/+OEHfyhyi+WRgMUxWeAeuMpSnvD8xooVKzrhyHUIyXBc9+7d3QJCuO2S17vuustZRM8999yc25Dfs88+212bc1A7IiACIiACIiACIiACIiACIlDECOTLbRUxhfDBqtitWzcnHpnDyD4CiTl5WOOYVzhkyBDbvn279ezZ08UzjzEqIKy6dOnirHes0Iq4Y/4g8wqZa4nbK26gkydPtq1btzoXV+YqYlH0VkcWq0Ec8vMh5NPvc28W38EN9eWXX3bX33///S5LnEdACHKdD14Yhrfs+wVx2Po/runVq5cr89ChQ+26665z8zWxxIYD8yKZ+4kVFtfeTIIvG9dQLp+vTNLQuSIgAiIgAiIgAiIgAiIgAiKQDoF8iUdugCBEALVv395eeuklw+oYDsz3Y5EbLIHM6QsvFhM+L9k+i9+0bt3amM/IyqmITyycLE6DZXL8+PE2a9Ys5zJ71llnOQE5adIkN7+QNC+++GJ3zxdeeMHNi+T+CFoC4pd4FrVhXiX5w1rau3dvt7ANcy6Zn4koQ5yOGzfOuZfiqos1tH///vbNN9/YiBEj3Ja5nywUdOONN7r0WSCHvJA2fDiXRXrCAYstIrlatWo5FsxwfLJ9xGKrVq3cnFJEJOVijqmCCIiACIiACIiACIiACIiACGSDQKlAGMUSJcxKqYizqMDKqQgpLIkzZswwBBwCzAdWQUWksfop7q0IwbwExBJijnRwFY0PWDeZd8jcwkwDlkasmlgiCzIwZxOhi2jE3TVZ3rg/zMLcCjIfSksEREAEREAEREAEREAEREAE0iWQTAvmWzymmwGdJwIiIAIiIAIiIAIiIAIiIAIiUPQJJBOPP5sIi34ZlEMREAEREAEREAEREAEREAEREIFCIiDxWEjgdVsREAEREAEREAEREAEREAER2JcISDzuS7WlvIqACIiACIiACIiACIiACIhAIRGQeCwk8LqtCIiACIiACIiACIiACIiACOxLBCQe96XaUl5FQAREQAREQAREQAREQAREoJAISDwWEnjdVgREQAREQAREQAREQAREQAT2JQIFLh75wXqC34ZhhH9SMlF8+Fzti4AIiIAIiIAIiIAIiIAIiIAIFB0CZa4LQqLsfPvtt+4H7hPFJTu2Zs0a+9Of/mSdO3e2M844w7p27Wply5bNOf3BBx+05cuX2w8//GB33HGHdejQIScuamfr1q129dVXW/v27aNO3efiN2/ebK+99pq99957tmPHDjvyyCMLvQwffvihvfLKK7Z48WIrV66cHXLIIYWep0wysHv3buvevbsdf/zxVrNmzYSXbtq0yaZPn25Lly61+vXr73FOovjC4kJ5nnrqKfvPf/5jv/zlL/fIa/gA361//etf9pvf/CZ8OOX+m2++aW+88YbVqVPHKlSokPLcTCM//fRTe/75561UqVJWo0aNlJdnmvdMuKS8cT4ji9vzlgmOdOqM5/Gf//ynfffdd1arVq09kp8xY4YtXLjQqlWrZgceeKCLnzlzpi1YsMD4zv3iF7+w8uXL73FdYR4oiDpPxKWw2phMWKZT54nqNHyP+PgtW7bYM888Y//+97/tiy++sOOOOy58epHY5x09YsQI17dJlqFEdRo+N1F8UX/Ww/nXvgiIQMkhkEwLFqjl8dVXX7WGDRu6Fz4d9vhOKGKkUaNG9vLLL9vJJ5+cNn06tldeeaWxHTNmjHGffTFgeV2xYoWFLbC7du2yHj162OOPP+6E2nPPPZd20Z588knHMv6CnTt3OpERfzyTz7zIP//8c9fpf+uttzK5tEic++OPP9q2bdvsp59+SpofOH3yySd2++23J7SUJ4ovLC50VOl0PPDAA0nL4yMYjGCAJpOwceNGmzx5sqvzTK5L51wEw4svvmhz5syJPD3TvGfCJfLm+TihuD1vmaBIp844Z+7cua49SZT2l19+aVOnTrVly5blRHPss88+s7/+9a/21Vdf5RwvKjsFUeeJuBRWG5MJ13TqPFGdhu8RH0+bhWhctGiRPfzww+FTi8w+7xQGeMPv8PjMJarT8DmJ4ov6sx7Ov/ZFQAREgEYwYVi7dm3C46kOnnPOObHAihO79tprY9OmTct1aiCaYoE1MhaIpVibNm1iX3/9da74ZB8C60/slFNOiQUdiFggHmN/+MMfYuPHj092etLjQSczaRwRgchIGR+42aaMTxXJvQPhHOvWrVvsd7/7XSx4AeWc/vrrr8datWoVS5W/ZHFjx46N3XnnnTlp+Z0lS5bEAqtTrH///rH333/fH87T9sYbb4wFoiJP12bzIurDc/HbvNxvw4YNscaNG+ekFZ9GsvgoLuQpP89MfD74HIzIxwKrvosq6LRJ9Pe//33so48+KvB8k/aECRNiEydOZLfA0882F59n/5z5rStMhv+SPU8+mWTxhfG8+Tz58vqtP57pNhjsig0fPjzpZb1793btZPwJrVu3jq1atSr+cM7nqLY758QMd8LlDe9nmEwsWZ36dJJxiarzbJW7oNpWypesTn3ZE8W/++677j3vz4nfUhfZaP+4T7iew/vxeYj6nKxO/XXJ4gvrWS/IOvdl1FYERGDfJ5BMC/7sU5pHIf322287qxkWHtzT7r77budmtHr1alu3bp2zPn788ccWvEDt+++/t379+rltIDCd68epp56a8s5Bxp316LzzznMuTbjsMTKbbpg/f74bxVy5cqVzeypTpoxzf23WrJlLAneRhx56yFlcqlSpYoHAsz59+jgXO0YIb775ZlcerCfVq1d3ltVrrrkmrdvD5KWXXrJHHnnEuWsFwtfOPfdcO+CAA9z1QYfaPvjgAzeKOWzYMHfs9NNPz3HnxdWPEdj169fb4Ycf7sp/5plnGsxwYQw6+rbffvvZPffc467Fqtu0aVOrV6+ec/8JXlA2ePBg5+ZImXyZ08p8xEnPPvusq3esk7ginn322XbRRRfZyJEjLejoOdbBAIKVLl3a5ZW84LYYCAirXbt2ROqJo7HSXnDBBS7Nb775xnFr0qSJBQLcWrZsacGggrvw/vvvd9z5AONjjz02J0GsicQHHRT3bDZv3jwnjp2o+FwnJ/iAJfO2225zzwxlh3nQYS4wt19GvnENf+edd5wVHxcq7wbI84Brd9BcWZcuXaxnz565csj35oUXXnDuyLgh4x6IixxW/WBQw52LBRw2Bx98sF122WV22mmn5UojPx/IH98vrEg85+SdZ4IQlXe+v7gYY33Fa4HzsQCQX0IqLu6EPPwryc/bLbfc4p4x2hfacaYY4IFAG0ibePTRR0fWGW33vffea7wLjjrqKKN9DQc8SHBTxC0mGMBx9RmOT7XPu+Suu+5yXijUPW6ttKG//e1vU10WGTdv3jzXZtBG047hSbN9+3b3fhg6dKidddZZLo38tDFRXKIymeqdFXVtsvh0n/Wo72lUnUbFJ8sfx7PVtqZb57zfeFZ539133325shpVp1HxuRJL8KEw6zxBdnRIBESghBPIt9sqL/1Ro0a5TgXul168BFYxJ8Lo7CMomD/GMeatDBgwwF0TWBQj8fPyRgwhvG666SYnHJnHlm7gmhYtWjiXucBK58QWAoEwJ3Cjww324osvdnMO//KXvzgh6Tukjz32mMs3rqT/+Mc/7IQTTnDiIp1707lHUOGKxUuH6xHO4Q4U8zdhQAeNOaL8UVYCL9lg5Nl13hGfsA0siq7jjShBICCE2WdeKX/s+4CggDviFYF0/fXX24UXXmjMS81vIB90IBHCCNxLLrnElROXyvPPP9+J3VtvvdUQ38wRoVwnnXSS/frXv3adyLzen2dn0KBBbpCC+yMKERMMWNCxRWQTmOvInBzEBZ3McED4IzZ5nhAw5D8couLD58bvMy934MCBduihh9rf//53N2jAoAnisaACgxjMiWXAIxgZd/fxadetW9eJc74z3Dc+8F2go8TzyHfIu5GHv4f//e9/bdKkSY4NQp/nrKAC850RpIhr3Fh5jnxIlXfqsG/fvq7tuPTSSw0XL9wbL7/8cneMNFJx8ffIdFuSnzc4004yeMAzTX0hzug4ezf2VHXG4A51hisi7T1ikzbQB9o3BhCZa8y9GIRigCDdwLuEQQ6epVmzZrl2FHHHAGZ+AuKTwQmmXPAdY3AF4Usbx+CFD3ltY6K4+PSTbaPeWcmuizqe7rOeqs6j6jQqPlUes9m2plvnDKjwLMc/Y1F1GhWfqtzEFXadR+VP8SIgAiWPQL4sj3QsGRFj7gfzFNq1a2ezZ8+2qlWruk4qljAsa8ynwgrHSC4LsHCcLaIiKiCIWGiHBpR7eTHKYjzpBIQTL31EE5YWOs6ISQJzLxFzLELCH4GRdebmcB+uffrppw1BwXknnniitW7d2p0X9S9wA3Edb/KPyPMWlvB1DRo0cBYTxAzswoHOGkKclxWBlzZ5YEGJ/fff33XMAtdfq1y5shOl4WvD+15csqW+EKr5DY8++qgFrrZOKJIW9Qhf8ow4oINJB5/OHRZH6o6OIZ078pGfQP0cdNBBTojS8eRePE/MseWljoUWJvyFF2vinowaw5pOQNu2bV02eCZGjx7t9qPi3Ukp/rG4Bx2FihUr5og6LBhYvxk8oe7yG8gvoolnioWpsED7AFusuvDh+QsH7k+nn0UqYIUoYDSc9MKc6PDDlcUqGF1HTB522GHhpPK8zz09dwadaAMYVCCkyjsDIMccc4yzkHIu34vAxda1M3wmpOLy/87I2/+S+rzxDCEoEFK0NwwM8bwxJw1LJCFVnfGdx5o1btw4932g3pm/6APPYeugLeVZJuBBQJ2mE0iX7zHPKW01gfcLx/mueUu8i8jwH2XmWaKtp83lu8IgE9uwtSmvbUwUl6jsRr2zoq5PFZ/Os56qzqPqNCo+Vd6y2bamW+e8axK1hVF1GhWfqtzEFXadR+VP8SIgAiWPQL7EI7hYiRMLAoIRVzdclDp16uTEEi8aOqZYO4J5jk5g8sJHBIU7rKmwI0AYlcZShLsmFiVeQumKR0aIscTgOoslDFcnOhpYzRC95JmRZR+wQjJKTmDLYg2sxokwYeScsoQ7Ef66+C0CFRdBVlHFgol1DNdb8k3nJCqQx/jzEq00m2xhFKxwuI1iWUOkYmHNZPXNVPlDIIWZcS4dTJ8X6hqhQt3RCSMPiBAEQzggaHBhpNOCtS7TgCD3izLxHEZZyXA/I1DnPngXYj5Hxftrkm3pvBLqBCuW0iEhwInOZ/iePHe4YJHnTFcUrFSpkhOOpI1ITTdwL3hhofMBd7/4gGggwJXz45nmp8582qRP3uPT5niiQF7C+cYiBsNwSIdLfvLOvUri8+YZ++eHdjudeqO+qOPwYBWCy9cjW74nPvB98d8ZfyzZloERrO505MPtEC7biNBwYFAQDwQGH3xbEY5PZ5/r0i13VBsSxSUqP1HvLH99ftoY0sj0WeeaqDqNiieNZCHdtpXr93adR9VpVHyyMvvj6db53m7ffP60FQERKHkE8mUG4gWDayZCh7lMdJAReOwjznCNY44elschQ4a4zjnzsIjv2LFjWrQRfbgoYh1CgOH6Ej9PLVVCvXr1cvfF6nXdddc5IYU1lIAFA2HKSHWw2E9OuszrILD6JMKPMuKai9snQjm+4+pOTvAP6xBzhXBdveGGG5yLJTx8BwNuCC46QnRwvDstSTEqPzcYVae8vDgRG8xfxB3SB4QP+cGtD3GLlY/l7sk/jHlpMWcSd91MhSMdNO5L3sin3+feWB1Zdh+BSFywKI8T9OSZwDOAcKbjyBwh5mQy948OaDjgRsnzgLUg3UC++PMdWPZ98PvklT/O8fvE0dnE5ZN6xe0RlzTmLhF8ZzRVPOeRjmcRzwW3XDrAzC2k3nnGGa3mPlzjAwMKlJt6ySRwb//HdZQv/Jky+Lz5ffJIYCAC6zbzJRn8wJWWZ8UH0uKP6wikS/DXuw/Bv7zUGdeSnk870WefX7Z+39+bQRM6RrhP4oWANd7H+bTCHOK5cA4hL3n36ZImwXMJ7/tnjHP8Puft689b+HmgvJ6B3/p6SlRntDcMMjH4xkAW1hPaDM7lelwFcTflu4A1E1dpLP/heqWdhSfnh7ki5hgQ4zrSoe3GSshn77pOfmlTGTzEmh7vvk58skDdkU8fwnXuy+7zE5+3qDqP4sI9uR/pkwd4+H3iot5ZnEPISxvDffnzZQyX2++TJ58fv+/rLKpOo+LJN2lT79yPff4I6bat2apzX8/kze/7vEXVaVQ85Uv2rBOXbp1no33j/Yj3FV5O9J/wHuN7zLQU/5yQRwUREIGSRaBU0AAknNSEa1I6C5sghHBnQizggkTHjpeED3QaEEAsjoHLKJ8RVekGGi3EEAsrIIZwi6QxxaqZTqDjiUBj5JhrjjjiCNcIYlXkBYUlk8aRPPEyYM4hi8uwgAjujbjK8pJEGHMOcYjJvAasPYzAE+CBVTMcmJuI5ZZqYbEJxKu/P9ZMRLC3SNJRQlBSVwh5XrBXXHGFs2YhRLEG5jUgbsLL5pMOQgjXVLhhwcWyyT55RSgxx5J7coxngnIgYtn6+Zs+P5yDKxsWIyyT6ViiecEiTOkIImDpQCLAEKdTpkxxvyFKnTEvMj5wHYMQDEaQTzqa3JOFdnCBo/OJO25UfCou3BMXJRbuQUDCBasqAwbMd/XPLFZgvi+4AlJn6QQ6RTzL1CsikHqGMRxZHOeqq65yx+mAhwNiljwh5OHHPh1L3PCYF8mWgR2Y4HLO+XODQQsYMsjCs8Zxnq+81Bl5obNB/giwQQjS+SBQd3SuKFOqvHMN30UGS/j+MwBA3WNRSsXFuyTnJe8l+XnDikdbzXeE78Uf//hHJ9KwlPM9Yj4scxZT1Rku1YhC2lVctqkrBixosxhc5B48awRczxnI45nEs4T64hzavnBgOgFtIG0f0wn4TUBvsWTwirR5pgnMO+czHh/pzjvmt05ZQIrA95Q2DndbysL3mHaOPz+dwJ34//+l28ak4kL7kqqNgUuqd5bPT6ZtTDrPOm0HrufJ6py8papTnoFU8bQzvFfCgXaHuad4LKXTtmarzhn4ZJG4+IBbNu1PVJ2miue5TfWsp1PnnJON9ykDNSyuxvPOe4J+HFOU8MCiXxf23Ilno88iIAL7PoGkWjDo4CYMwXyohMfjDwbiMRbMSXKHg8Y111LXHOSnOwIREgusj7Gg8Xfn5eVf8Ft8efrJiMBV1d0u6HzGgpdewlsHnZtY0HGJBaIkVzyfA+EZo4yBe2WuuL31IXipx4L5gymXJqdc5HNvB/IWiLCE9ybPnmfQ+Ur4XARurLHgpbq3s+3uF7jRJsy3z0xUvD8v0TZ4kbvnhWcuUQjmiMaCBTgSRe3VY0GnOhYI2LTvyXe5MOvMZzRwS3P5YJtuKOy8Rz1PUfGpylmUnzfaVtpO8pgo0Hb5NjpRfNSxYCEVl35g/drj1EC4xoKBhkJru1PVaRSXPQoTdyDZO8ufVphtTFSdRsX7MiTaRj3rhVnnUXUaFZ+ovOFjqeo8W+0bdUX/hxAM2LgtfQ36cwoiIALFn0AyLZjvOY9YmhiJJeA+FB+w6PjACFteA3NZwnOm0k3HzzVjTmaywKgiFsn44OeUMbKdHytefLqZfGbk34+kJ7vOWyKTxWfrOHljgZpEIZxnXEHjA5Y/5jnmx4obn2Ymn7GipgpR8amuZbQ82RxOrKZYJVnZtzAC1jrmmbLyKe7kWHDTDYVZZ+SVn10JOo9uBd9f/epXGS2MUph5h2/U8xQVn6qOivLzRtua7LtAmfLbdvmFaxLxwTrJYl6p7p/ouoI6lqpOo7hE5SHZO4vrCruNiarTqPhUZU/1rHNdYdZ5VJ1GxacqN3Gp6jxb7Vu4rnDJJtAfKojF31xi+icCIrBPEsi32+o+WWplukgQQAh4V84ikaG9lInCLDcuuitWrHADEswdzrRjXVh5D0bdnQshLui4nDMQxeBFJqGw8p5JHrNxbkktdzAm7FzH1cZk46kqmmmqzksXzYpRrkRABPZJAsncViUe98nqVKZFQAREQAREQAREQAREQAREIDsEkolHDVNlh7dSFQEREAEREAEREAEREAEREIFiRUDisVhVpwojAiIgAiIgAiIgAiIgAiIgAtkhIPGYHa5KVQREQAREQAREQAREQAREQASKFQGJx2JVnSqMCIiACIiACIiACIiACIiACGSHgMRjdrgqVREQAREQAREQAREQAREQAREoVgQkHotVdaowIiACIiACIiACIiACIiACIpAdAhKP2eGqVEVABERABERABERABERABESgWBGQeCxW1anCiIAIiIAIiIAIiIAIiIAIiEB2CEg8ZoerUhUBERABERABERABERABERCBYkVA4rFYVacKIwIiIAIiIAIiIAIiIAIiIALZIVA2VbLr1q1LFa04ERABERABERABERABERABERCBEkKgVCwIJaSsKqYIiIAIiIAIiIAIiIAIiIAIiEAeCchtNY/gdJkIiIAIiIAIiIAIiIAIiIAIlCQCEo8lqbZVVhEQAREQAREQAREQAREQARHIIwGJxzyC02UiIAIiIAIiIAIiIAIiIAIiUJIISDyWpNpWWUVABERABERABERABERABEQgjwT+D0lGNnQrYRQyAAAAAElFTkSuQmCC)"
      ],
      "metadata": {
        "id": "njCYJcjOmjEJ"
      }
    },
    {
      "cell_type": "markdown",
      "source": [
        "Tipul de școală (`schtyp`) și programul (`prog`), sunt variabile categoriale, fără o ordonare inerentă a nivelelor."
      ],
      "metadata": {
        "id": "8YYTtn7xmt0s"
      }
    },
    {
      "cell_type": "markdown",
      "source": [
        "![Screenshot 2022-08-18 at 09.20.56.png](data:image/png;base64,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)"
      ],
      "metadata": {
        "id": "wnJKuAu_nHSa"
      }
    },
    {
      "cell_type": "markdown",
      "source": [
        "Variabilele rămase sunt scorurile pe care elevii le-au primit la testele de citire, scriere, matematică, științe și studiile sociale. Deoarece aceste scoruri sunt toate numere întregi și presupunând că nu este posibil să se obțină un scor non-numeric întreg la aceste teste, le vom considera ca variabile numerice discrete."
      ],
      "metadata": {
        "id": "GLxUZ2PIndkM"
      }
    },
    {
      "cell_type": "markdown",
      "source": [
        "<font color='red'>**Sarcina 2**<br>\n",
        "Analizați variabilele din setul de date `email50`, indicând tipul pentru fiecare variabilă. Descrierea variabilelor o puteți găsi în „help file” accesând `?email50`.\n",
        "</font> "
      ],
      "metadata": {
        "id": "5YM4r917oNL_"
      }
    },
    {
      "cell_type": "code",
      "source": [
        "%%R\n",
        "glimpse(email50)"
      ],
      "metadata": {
        "colab": {
          "base_uri": "https://localhost:8080/"
        },
        "id": "UTiBHjte_Hv4",
        "outputId": "3437857d-c0f4-46f9-a6d6-6cde50c797bc"
      },
      "execution_count": null,
      "outputs": [
        {
          "output_type": "stream",
          "name": "stdout",
          "text": [
            "Rows: 50\n",
            "Columns: 21\n",
            "$ spam         <fct> 0, 0, 1, 0, 0, 0, 0, 0, 0, 0, 0, 0, 1, 1, 0, 0, 0, 1, 0, …\n",
            "$ to_multiple  <fct> 0, 0, 0, 0, 0, 0, 0, 0, 0, 0, 0, 0, 0, 1, 0, 0, 0, 0, 0, …\n",
            "$ from         <fct> 1, 1, 1, 1, 1, 1, 1, 1, 1, 1, 1, 1, 1, 1, 1, 1, 1, 1, 1, …\n",
            "$ cc           <int> 0, 0, 4, 0, 0, 0, 0, 0, 1, 0, 0, 0, 0, 0, 0, 0, 0, 0, 1, …\n",
            "$ sent_email   <fct> 1, 0, 0, 0, 0, 0, 0, 1, 1, 0, 0, 0, 0, 0, 0, 1, 1, 0, 1, …\n",
            "$ time         <dttm> 2012-01-04 13:19:16, 2012-02-16 20:10:06, 2012-01-04 15:…\n",
            "$ image        <dbl> 0, 0, 0, 0, 0, 0, 0, 0, 0, 0, 0, 0, 0, 0, 0, 0, 0, 0, 0, …\n",
            "$ attach       <dbl> 0, 0, 2, 0, 0, 0, 0, 0, 0, 0, 0, 0, 0, 2, 0, 0, 0, 1, 0, …\n",
            "$ dollar       <dbl> 0, 0, 0, 0, 9, 0, 0, 0, 0, 23, 4, 0, 3, 2, 0, 0, 0, 0, 0,…\n",
            "$ winner       <fct> no, no, no, no, no, no, no, no, no, no, no, no, yes, no, …\n",
            "$ inherit      <dbl> 0, 0, 0, 0, 0, 0, 0, 0, 0, 0, 0, 0, 0, 0, 0, 0, 0, 0, 0, …\n",
            "$ viagra       <dbl> 0, 0, 0, 0, 0, 0, 0, 0, 0, 0, 0, 0, 0, 0, 0, 0, 0, 0, 0, …\n",
            "$ password     <dbl> 0, 0, 0, 0, 1, 0, 0, 0, 0, 0, 0, 2, 0, 0, 0, 0, 0, 0, 8, …\n",
            "$ num_char     <dbl> 21.705, 7.011, 0.631, 2.454, 41.623, 0.057, 0.809, 5.229,…\n",
            "$ line_breaks  <int> 551, 183, 28, 61, 1088, 5, 17, 88, 242, 578, 1167, 198, 7…\n",
            "$ format       <fct> 1, 1, 0, 0, 1, 0, 0, 1, 1, 1, 1, 1, 1, 0, 1, 1, 1, 0, 1, …\n",
            "$ re_subj      <fct> 1, 0, 0, 0, 0, 0, 0, 1, 1, 0, 0, 0, 0, 0, 0, 1, 1, 0, 0, …\n",
            "$ exclaim_subj <dbl> 0, 0, 0, 0, 0, 0, 0, 0, 1, 0, 0, 0, 0, 0, 0, 0, 0, 0, 0, …\n",
            "$ urgent_subj  <fct> 0, 0, 0, 0, 0, 0, 0, 0, 0, 0, 0, 0, 0, 0, 0, 0, 0, 0, 0, …\n",
            "$ exclaim_mess <dbl> 8, 1, 2, 1, 43, 0, 0, 2, 22, 3, 13, 1, 2, 2, 21, 10, 0, 0…\n",
            "$ number       <fct> small, big, none, small, small, small, small, small, smal…\n"
          ]
        }
      ]
    },
    {
      "cell_type": "markdown",
      "source": [
        "Numerice: exclaim_mess, \n",
        "Numerice continue: num_char,\n",
        "Numerice discrete: line_breaks,\n",
        "Categoriale: spam, to_multiple, from, sent_email, image, winner, inherit, viagra, format, re_subj, exclaim_subj, urgent_subj,\n",
        "Categoriale ordinale: number, cc, attach, dollar, password,  \n",
        "Variabila data/time: time"
      ],
      "metadata": {
        "id": "ZVjhDmymz0vl"
      }
    },
    {
      "cell_type": "markdown",
      "source": [
        "### Date categoriale în R: factori"
      ],
      "metadata": {
        "id": "p1EpV5VAPptC"
      }
    },
    {
      "cell_type": "markdown",
      "source": [
        "Una dintre clasele de date importante în R sunt factorii, care stochează adesea variabile categorice. Este important să diferențiem această clasă de date, deoarece în crearea modelelor, vom utiliza modele statistice diferite pentru variabilele categoriale față de cele numerice.\n",
        "\n",
        "Un pas comun în numeroase analize care implică datele categoriale este analiza unui subgrup - se lucrază doar cu un subset de date. Putem obține aceste subseturi prin filtrarea pentru un anumit nivel specific care ne interesează.\n",
        "\n",
        "Să presupunem că dorim să facem o analiză numai a elevilor din școlile publice din setul de date *High School and Beyound dataset*. Să vedem mai întâi câți astfel de studenți există.\n",
        "\n",
        "O opțiune pentru obținerea acestor informații în R este utilizarea funcției `count()` din pachetul **dplyr**, unul dintre pachetele incluse în **tidyverse**. Acest pachet include numeroase funcții pentru prelucrarea, transformarea și rezumarea deatelor. Funcția `count()` ne va oferi frecvențele de apariție a valorilor într-o coloană, iar în cazul nostru, ne interesează numărul de elevi pentru fiecare nivel al coloanei `schtyp`."
      ],
      "metadata": {
        "id": "iGQJgPk3P4bH"
      }
    },
    {
      "cell_type": "code",
      "source": [
        "%%R\n",
        "hsb2 %>% count(schtyp)"
      ],
      "metadata": {
        "id": "_xY9hdKD1t9k",
        "colab": {
          "base_uri": "https://localhost:8080/"
        },
        "outputId": "9171fa1a-3fc8-4caf-ae69-edd5ee593a47"
      },
      "execution_count": null,
      "outputs": [
        {
          "output_type": "stream",
          "name": "stdout",
          "text": [
            "# A tibble: 2 × 2\n",
            "  schtyp      n\n",
            "  <fct>   <int>\n",
            "1 public    168\n",
            "2 private    32\n"
          ]
        }
      ]
    },
    {
      "cell_type": "markdown",
      "source": [
        "Astfel, avem 168 de studenți în școlile pubcile și 32 de studenți în școlile private.\n",
        "\n",
        "Putem citi codul de mai sus ca: \"Luăm cadrul de date `hsb2` și îl trecem prin funcția `count()`\"."
      ],
      "metadata": {
        "id": "rkBQZbt_2RMt"
      }
    },
    {
      "cell_type": "markdown",
      "source": [
        "**Operatorul pipe**:\n",
        "\n",
        "![pipe.jpg](data:image/jpeg;base64,/9j/4AAQSkZJRgABAQEAYABgAAD/2wBDAAMCAgMCAgMDAwMEAwMEBQgFBQQEBQoHBwYIDAoMDAsKCwsNDhIQDQ4RDgsLEBYQERMUFRUVDA8XGBYUGBIUFRT/2wBDAQMEBAUEBQkFBQkUDQsNFBQUFBQUFBQUFBQUFBQUFBQUFBQUFBQUFBQUFBQUFBQUFBQUFBQUFBQUFBQUFBQUFBT/wAARCACTARcDASIAAhEBAxEB/8QAHwAAAQUBAQEBAQEAAAAAAAAAAAECAwQFBgcICQoL/8QAtRAAAgEDAwIEAwUFBAQAAAF9AQIDAAQRBRIhMUEGE1FhByJxFDKBkaEII0KxwRVS0fAkM2JyggkKFhcYGRolJicoKSo0NTY3ODk6Q0RFRkdISUpTVFVWV1hZWmNkZWZnaGlqc3R1dnd4eXqDhIWGh4iJipKTlJWWl5iZmqKjpKWmp6ipqrKztLW2t7i5usLDxMXGx8jJytLT1NXW19jZ2uHi4+Tl5ufo6erx8vP09fb3+Pn6/8QAHwEAAwEBAQEBAQEBAQAAAAAAAAECAwQFBgcICQoL/8QAtREAAgECBAQDBAcFBAQAAQJ3AAECAxEEBSExBhJBUQdhcRMiMoEIFEKRobHBCSMzUvAVYnLRChYkNOEl8RcYGRomJygpKjU2Nzg5OkNERUZHSElKU1RVVldYWVpjZGVmZ2hpanN0dXZ3eHl6goOEhYaHiImKkpOUlZaXmJmaoqOkpaanqKmqsrO0tba3uLm6wsPExcbHyMnK0tPU1dbX2Nna4uPk5ebn6Onq8vP09fb3+Pn6/9oADAMBAAIRAxEAPwD9U6KKKACiiigAooooAKKKKACiiigAooooAKKKKACiiigAooooAKKKKACiiigAooooAKKKKACiiigAooooAKKKKACiiigAooooAKKKo61rFr4f0m81K+lEFnaRNNLIeyqMmmk27ITairsfqeq2ei2Ut5f3UNnaxDLzXDhEUe5Nebah+038PdPlMY1p7sqcFrW1kdfwOMH8K+Tvil8VNW+KGvS3d5LJFpsbn7Hp+75IV7EjoXI6sfoOK5Kx0281SRks7S4u3UbmW3iaQgepABr6ejlEOW9aWvkfGYjPpufLh4q3n1PvPw38dvA3iq6S1stft0unOFhulaBmPoN4AJ+hrvs1+Y8kbRsyOpVlOCrDBB9CDX0h+zD8abtdUh8H63dPc284xp1xM2WjcDPlEnqpAO30Ix3GMMXlfsoOpRd7dDqwOdOtUVKvGzezR9U0hoFeZ/tBfED/AIQH4eXkkEmzU9QzZ2mDyGYfM4/3VyfrivDpU5VZqEd2fSVqsaFOVSeyJ9F/aA8E63rV1pS6wlndQTtApvB5ccxUkZRz8pBxxkg16JHIsihlIZWGQynINfmPgYx296+1f2WfC19oPw5jvb64uHOpv9ogtpZGKQwgYTap4Xdy3HYrXsY7L6eGh7SMvkfP5bmlXGVPZTh53R7LRRRXhH0wUUUUAFFFFABRRRQAUUUUAFY/iTxdo3g+y+161qdtptuThWuJAu4+ijqT9KyPin8Qrb4Z+D7vWZ1E0y4itrcnHmzN91fpwSfYGvgrxR4q1XxlrE2qaxeSXt5KfvOflQf3UHRVHoK9bBYB4r3pO0Tw8xzSOCtCKvJ/gfZU37Ufw9imEa6rcSrn/WJZS7f1Fdb4R+K3hTx1J5Wi63bXdxjP2ckxy4/3GAJ/AV+flvpN9eWslzBZXM9vH9+aOFmRfqwGBUEM8ltNHNDI0U0ZDJJGxVlI6EEcg/SvXllFFq0JO54EM+xEZJ1IJr5o/TalrxP9m34xz/EDSJtH1ibzdc05A3nN1uYc4Dn/AGgcA+uQe5r2yvmK1GVCbpz3R9nh68MTSVWnsyjrms2vh7SLzU72TyrS0haeV/RVGT+Ncl4H+NfhHx+ETTdVjivWH/HjefuZx7BT97/gJNeW/td/ED7Do9l4TtJMT3xFzebT0hU/Ip/3mGfonvXypDHJPNHHEjSSswVFUclicAD3zivawmWxr0PaTdm9vQ+ex2cSwuJ9lTSaW/qfpvS1y/wz8N3XhLwPpGl313Ne3sMA8+aeQyHeeWUEnoCcD2FdRXgySjJpO6PpoScoqUlZvoFFFFSWFFFFABRRRQAV4p+1prkml/C37JGxU6jexW747oAZCP8AxwV7XXgn7Ylk83w90u5UZS31JN/sGjcD9cfnXdgUniYX7nm5k2sJUa7HyB3r7f8A2YfD1vo3wl0y6jjVbjUme6mkAwzfOVUE+gUDFfEHevu/9nO+jvfg34b8tgTDE8LgdmWRgRX0Wbt+wSXf/M+TyFReJk3vb9UeDfteaBb6b4903UYIlibUbMmbaMbpI2xuPuVZR+FeJ6Tqcui6pZ6jAxSa0mS4Rh1BRg39K98/bKvEk8VeHbYH95HZSSMPQNIAP/QTXz0sLXDCJBl5PkUe54H6muzA+9hYc3Y8/MrRxtTk7/p/mfplaXK3VrFMv3ZEVx9CM/1r4j/aT+IH/CbfEOe1t5d+m6Rm0hwflaTP71/xYbfotfTHxa8bH4YfCuSdHC6k0CWVoO/nFMbv+AgM34V8IElmySWPcnqfevJynDrmlXfTRHvZ7inyxwy66v8AQ6v4W+B5PiH450zRVDfZ5H8y6df4IF5c/iPlHuwr9CrW3jtLeKCGNYoY1CJGowFUDAA+grwf9kv4f/2H4VuPEl1Fi81Y7YNw5W3U8H/gTZP0C177XDmmI9tW5FtH8+p6OTYX6vh/aS3lr8un+YUUUhrxz3znvH/jSy+H/hS/1u+OY7dPkizgyyHhEHuT+mTXz78Nv2uJ1uvsnjO3VoZHJXUbOPBiBPR4x1UdNy84HINch+0z8Uv+E28Vf2LYTb9G0l2Tch+Wa46O/uF+6P8AgR714xX1mDy2nKh++WsvwPh8fm9WOJth5e7HTyfc/SzR9asfEGnw3+m3cN9ZzDMc8Dhlb8R39qvV+dngT4k+IPhzqP2rRL5oVY5ltZPngm/3k9fcYPvX1r8LP2jtA+IHk2N8V0TXG+X7PO/7qZv+mbnqf9k4P1rysVltXD+9H3ontYLN6OKtCfuy/B+jPXqKTNLXkHvBRRRQB8qftma5I+seHNHDYijgkvGX1Zm2KfwCt+dfOGC3A6ngV7/+2RZyR+N9CuyP3UunGMH3SVif0cV4ArCNgx/hOfy5r7zL0lhYW/rU/Ms1beNqc39aI/R/wf4dt/CvhXTNJtolihtbdI9qjALBRuJ9yck/Wvhf42+H4fDPxU8R2NtGsNsLjzoo0GFVZFD4A7AFjX3xpt9HqOm213Ed0U8SSofUMoI/nXwv+0Rex33xk8RvGdyxyRwk/wC0sSg/rx+FeJlMpPETv1X6n0eexgsLTt0enpZjf2e9afQ/i94edDhLqVrORfVZFI5/EKfwr7q1LUYNJ024vbuQQ21vE0ssjdFVRkn8hXwP8EbOS++LfhSOMZK3yykf7KAsT+Qr6D/a1+IH9jeFrbwzbSbbvVT5lxtPK26np/wJsD6K1bZhR9vi6cI7tHPlWJ+rYGrVlsnp62R8y+P/ABhP488YanrlxkG6lzHGf+WcQ4RPwUD8c16P+y38P/8AhK/Hn9sXMW7T9FxN8w4ac/6sfhy34CvGVUswAUsx4CqOSfQV99/BPwAPh38P9P06RAuoTD7TeNjkzOASP+AjC/8AAa7swrLDYf2cNG9F6Hm5Vh3jMV7Spqlq/Xp+J3o4paKK+KP0QKKKKACiiigAooooAK5X4neC0+IHgfVdDZljkuYswyMOElU7kP03AZ9ia6qkqoycJKUd0ROEakXCWzPzQ1TS7vRdSurC+ga2vLaQxTQuMFGHUf56123w2+OHiT4X2dxZaYba5sZn837PeIWVHIwWUggjOBkd8V9bfE74G+HPiePPvInsdVVdqaha4EmB0Dg8OPryOxFeH3/7GeuJcMLLxFp80Ofla4hkjb8QNwr6+GYYXE0+Wtp5M+DqZXjcJV58Pr2a3+Z4p4y8Zap488QT6zq8yzXkoC4RdqIo6Ko7Af1Ndt+zx8N5/HXjy0uZIidI0qRbq6kI+VmBzHH9SQDj0Br0vwz+xqVukk1/xCJIFbJg06EqXHpvfp+Ar1PxtqGj/Af4V3j6NaQ2KxL5VnCvWS4fhWYnlj/ESey1FfH03FUMLq3ouyNMNllVTeJxmkVq+rZ86/tRfED/AISzx4dJtpN+n6KDANp4ac/6xvwwF/4Ca88+Hng2fx94y0vQ4Nyi6l/eyL/yziHLt+C5/EiufkkeaR5JHaSR2LM7HJYk5JPuTX1f+yL8P/7N0O88V3UWLjUCbe03DkQKfmYf7zD8kFddaUcBhbR6aL1/rU4MPCWZ4289m7v0/rQ+gNOsYNLsbe0toxDbW8axRRr0VVGAPyFWaKK+H33P0nbRBSUtFIZ5H8Tf2b/Dfj3zryzQaHrLZP2m1QeXK3/TSPgH6jB+tfKXxB+EviT4a3JXV7ImzZsR39vl4JP+Bfwn2bBr9Cagu7OC/t5Le5hjuLeRdrxSqGVh6EHgivWw2ZVcP7sveieHjMpoYq8o+7Luv1R+ZlFfWXxM/ZN0/VfNvvCMy6Vd/eOnzEm3c/7J6xn8x9K+Y/E3hPWPBupvp+tafNp92vRZV4ceqsOGHuDX1WHxdLEr3Hr26nxGKwNfBv8AeLTv0PT/AIWftMa74H8mw1jzNe0ZcKFkf/SIV/2HP3gP7rfgRX1l4K+IGhfEDTBe6Jfx3cYx5kX3ZYj6Oh5U/oexr86K0NB8Qal4X1OLUdJvprC9j+7NA2Dj0PYj2ORXHistp1/eh7svwPQwWcVsNaFT3o/ivQ/SqivnX4W/tX2Wq+Tp3jBE067+6upRDED/AO+P4D78r9K+hba5ivII5oJUmhkUMkkbBlYHoQR1FfKVsPUw8uWorH3GHxVHFR5qUr/mjyX9pf4b3HjvwOt1p8Rm1TSXa4iiUZaWMjEiD1OACPUrjvXxJX6cnmvG/iR+zH4c8cXkuoWEj6BqcpLSSW6BoZW7lo+ME+qke+a9bL8wjQj7Krt0Z4Wa5XPEy9tR+Lqu58/+Ff2lPGHhHwzDots1lcw26eXbzXUJeWJey5DAMB2yPzrzG+vrjVL64vLuVri6uJGlllc/M7sckn3JNe9Sfsa+IxKRHr+lNHn7zRyg/lg/zrsPBP7H+laZcx3PiTVH1jZz9jt0MMJP+02SzD2GK9X65gqN5wau+yPE/s/McRy06idl3eiOa/ZR8Avb3F9451MfZtPtoZIbSSTgMcfvZf8AdVQVz7t6V458T/G8vxC8canrblhBM+y2Rv4IV4Qflyfcmvpj9p/xnb+Cfh/beF9LWO0m1NfJEMICiK1TG7AHQHhfoTXx9TwN68pYqa30Xoicx5cNCGCpu/Lq/Nv/AIB63+zT8P8A/hNPiFDe3MW/TdH23UuRw0uf3SfmC3/Aa+3hXm/wB+H/APwr/wCHtlBPHs1O9/0y845DsBhD/urgfXNek185mGI+sV21stEfXZXhfquGSfxPVhRRRXmnrhRRRQAUUUUAFFFFABRRRQAUUUUAIa+OP2rviB/wkfjKLw/aybrHRwRLtPDXDD5v++Vwv1LV9PfE7xtD8PvBOp61JtMkEe2CNv8AlpM3CL+ePwBr89Lq6mvrqa5uJGmuJnaSSRurMxyT+JNfRZRh+abrS6aL1PlM+xXJBYeO71fp/wAP+RreCvCtz438VaZodpkS3kwjLgf6tOrv+Cgn8K/RHRtKtdB0mz06zjENpaxLDEg7KowK+bf2V/Cdp4b0DWPH2sslrbiN4beaXgJCnMsn4kBRj+6fWuN+J37TniLxZeTW2gzy6Bo6khDCcXEo9Xf+HP8AdXp3JrbF06mPr+yp/DHd+ZzYCrRyzDe2rfFPZdbH2jRmvzUm17U7ibzZdSvZZevmPcyFvzJrrvBfxw8Y+B7qN7XWJ721U/NZX7tNEw9OTlfqpFYyyaaV4zuzphxBTcrTptL1v/kff1FcZ8K/idp3xS8NJqdmpguI28q6s2bLQSYzjPcEcg9x75rs68CcJU5OElZo+np1I1YKcHdMKKKKg0CsjxN4T0jxjpj6frOnw6haN/BMuSp9VPVT7gg1rVxnxD+Lnhz4aWu7Vr0G8ZcxWFvh55P+A9h7nArSnGcppU9/IxrSpxg3Va5fPY+f/iZ+ybf6T5t94RmbU7UfMdOnYCdP9xuj/Q4P1r57kjaGR43Uo6MVZW6gjgivUvid+0R4k+Ifm2kEh0XRWyPsds53yL/00k6t9BgfWvK6+7wkcRGn/tDu/wCtz80x0sLKrfCppfh8kFfdv7Nv/JFfDX+5N/6Pkr4SXJIA5JOAK+9v2ftNu9H+EPh21vraWzuVjkZoZkKuoaV2XIPTIIP415+cW9hFef6M9XIE/rMn/d/VHolFFFfIH3gUyaRYY2d2CIoyzMcAAdTT68a/ag+IH/CI+AX0y2l2ajrJNsm0/MkOP3rfkQv/AAKtqNJ1qipx6nPiK0cPSlVlsj5e+MHjxviJ4+1LVVctZK32ezU9oUyFP/Ajlv8AgVbX7O/w/wD+E8+IlqbiLfpmmYvLnI+ViD+7Q/Vv0U15hwOTwBX2D8NE039n74LDXdbQrqGolbl4Fx5sjsP3UI9wvJ9Msa+zxcvq9BUqS1eiPz7A0/reKdas/dXvSf8AX9WPeBxS18GeOvj94w8cXUm7UpdJsCcJY6fIY1A/2mHzMfcnHsK4Zdc1KObzl1G8WX/noLlw355rx4ZNUcbznZ/ee9U4gpRlaEG162P0szS18PfDr9pLxV4Lu4otQupdf0nIElvePulVfWOQ8g+xyPp1r7N8M+JLDxbodnq+mTi4sruMSRv0PuCOxByCOxFebisHUwr97VPqexgswo45Pk0a6M1KKKK4D0wooooAKKKKACiiigApKWue8feLrbwL4R1PXLrBS0hLImf9ZIeET8WIFVGLk1GO7JlJQi5S2R8y/tbfED+2PE1r4XtZM2umDzrnaeGuGHAP+6p/NzXinhfw7deLvEWnaNZDN1ezLCh/u56sfYDJ/Cqmp6lc6xqV1f3khmu7qVpppD/E7Ekn8zX0f+yD8P8AfJf+L7qPhc2VjuHf/lq4/Rf++q+3k45fhdOn4s/N4qWaY3XZv7kv+B+JN+1Bfw+CfAXhjwRpR8m0cZkVeC0UQAUH/ec7j7rXzAxwpPoM17/+2Ru/4TrQv7n9mnH181s/0rwFcZG77vf6VWXxthovq9X95OaycsXOPRWS9LH2D4F/Ze8JP4LsX1u0uLzVrq3SWaYXDx+UzDdtQA4GM45znFfL/wAQvCh8D+NdY0Iu0q2U5SORxhnQgMhPvtIr9EbEg2MBXG3y1xj6Cvh79poqfjRru3H3LfP18lP/AK1eXluJq1a8ozd1a/4ntZxg6NDDQlTik07euj3Lf7L/AIrl8PfFK0svMItNWRrWVOxYAtGfrkEf8CNfbo6V+efwh3f8LU8JbPvf2pB+W7n9M1+hY+6K5s4ilWjJdUdeQTcsPKL6MdWZ4g8SaZ4V02TUNXvodPs4/vTTvgfQep9hzXjfxS/am0jwq8+neHI11vVUJR5mJFtCwODk9XIPYce9fLHi7xxrfjvUjfa5qEt9NzsVjiOIeiIOFH0/Gs8LllSt71T3Y/ibYzOaOHvCl70vwX9eR7f8Tv2srzUfOsPB0TWFtyp1O4Uecw/6ZoeE+pyfYV89Xl5cahdS3N1PJc3MrbpJpnLu59STyahqxp+nXWrXsNnZW0t3dzNtjggQu7n0AFfU0cPSw0bQVj4rEYqvjJ3qO/l/kiv+Fdb8Pvhb4h+Jd95GjWZa3VsTX02Vgh+rdz/sjJr2z4WfsmtJ5OpeNH2rwy6Rbv19pXH/AKCv519LaZpdnotjDZWNtFZ2kK7Y4YECIo9gK8rFZrCn7tHV9+n/AAT28FklSraeI91duv8AwPzPNvhb+z34e+HIivJUGsa4vP264QYiP/TJOi/Xk+9ep0tFfLVKs60uao7s+0o0aeHhyUo2QUUUVkbjWYKpJOK+B/jl4/PxC+IV/eQyb9OtT9ksuePLUnLD/ebJ+mK+ov2kfiB/whHw9uILeXZqeq5s7fB5VSP3j/gvH1YV8OcD2Ar6jKMPo68vRfqfGZ9iruOGj6v9P8/uPQ/gT4A/4WD8RLG1mj36bZ/6ZeccFFIwh/3mwPpmut/ay8WS6t8QItFRz9j0mBR5YPHnSDcx/wC+dg/Ovaf2Zfh//wAId8Pk1C5i2alrGLqTcPmWLH7pPyJb6tXzJ8et/wDwuLxVvzn7WMfTy0x+ldFKqsRjn2gtP1OSvQlhMtius2m/S10jlPDOhy+J/EWmaRAdkt9cx26tjO3cwBP4DJ/CvrvVv2U/BknhmW0sbe5g1RYm8q/a4ZnaTHBZSdpGewA6181/A0qPi94T39Ptw6+uxsfrX38PuCufNMRVpVIRpyt1OrJcJRr0pyqxT1t+B+ZLo0bsjjDqSrD0I4Ir6b/Y38Vys2u+HJXLRIFvrdSfu5OyQD6nYfzr5z8RFW8RaqUxs+2TYx0x5jV67+yLv/4Wlcbc7f7Mm3/TfH/XFenjoqphZX7XPHyyTp42Fu9j7Nooor4Q/TAooooAKKKKACiiigBK+Uv2vPiB9u1Wx8JWsv7q0Au7zaesjD92h+ikt/wIV9SalcS2un3M8Fu13NHGzpboQGkYDIUE8ZJ45r86/Gy623ifULjxFaXFlq11M080dzGUO4nPGeoHQY4wK9zKaKnVdR/ZPms8xEqdBUo/a39P+CUdC0W78R61Y6XYpvu7yZYIl/2mOMn2HU+wNfon4P8ADNr4N8M6botkMW9lCsSnHLEfeY+5OT+NfNX7Ifw/+26pfeLbqP8Ac2mbSz3DrKR+8cfRSF/4Ea+rarNsRz1FRW0fzJyPC+zpOvLeW3p/wT53/bD8Iy6h4f0jxBBGX/s+VoLgjtHJjax9gwA/4FXyaRnIPev0w1XS7XWtOubG9gS5tLiNopYZBlXUjBBr5B+JX7LPiDw5eTXPhqNtd0okskKkfaYh/dKn7/1HPtXVlmNhGHsajtbY4s4y+pKp9YpK6e9j0DwD+1V4bsvBdjba6t7Dq1nAsLrDAZBPtAAZWzgEgDOcYNfNXjjxRL428X6trksZia+naURZzsXgKue+FAps/gnxFbTGKXw/qqSg42mxlz/6DXYeC/2evGnjG5jB0qTR7In57vUlMYA9Qh+Zj9B+Ir0qdLDYRyqp2v5/keRVrYzHRjQlG9vL8zW/Zb8Iy+IPidb6gYybPSI2uZH7eYwKxr9ckn/gNfbOPlxXJ/DX4b6Z8MfDceladulYnzLi6kADzyEcsfT0A7Cutr5XHYlYqtzrZaI+3y3CPB0FCXxPVnyJ+1N8J/8AhH9X/wCEs0yHGnX8m29jQcRTno/sH/8AQv8AerwD17V+lPiDQbLxNot5peowieyu4zFLGe4Pp6EdQexFeP8Aw5/ZZ0Dwnem+1qX/AISG6SQmCOVNsEag/KSn8bYx14z0FethMzjTo8tXdbeZ4WOyadXEc9DSMt/J/wDBPBPhd8APEXxJaK6KHSNEJyb+5Q5kH/TJOrfXge9fXPw7+E/h34aWPlaRZg3Tria+nw88v1bsP9kYFdiiCNQqgBVGAAOBTq8rFY6ridHpHse3g8soYNXSvLu/07CUtFFecesFFFFABSNS1xvxcv8AW9P+H+rt4esZ7/VpIvJhS3ALpu4aQDPO0EnA5zirhHnko9zOpP2cHNrY+Q/2hPiB/wAJ78RLswSb9M03Nna4PDbT87j/AHmz+Cisr4M+AW+IvxA07THQtYxn7TeN2EKEEj/gRwv41xlxbTWc7288UkE0Zw8cqlXX6g8ivsj9lf4f/wDCMeBzrV1Fs1DWSJRuHK24z5Y/HJb8RX2mJqRwWF5Yei/z/U/O8HSlmON5qne7/wAv0Pa441jjCKoVQMBQMAD0r45/a08IzaP8QIdbWM/ZNWgX95jgTRjay/XbtP519k1zfj/wHpnxF8N3Gjaoh8qT5o5kxvhkH3XU+o/UEjvXy+CxH1aspvbZn2uYYT65h3TW+69T899B1ifw7rmn6rbf8fFlcJcR56EqwOD7HGPxr6w1j9rfwv8A8IvNNYQ3zazJCRHZyQ7RHIR/FJ02g9x1x0rxPxx+zj4y8H3Un2fT312wB+S609dxx/tR/eU/mPeuGj8F+IZJvKTQNVaTONosZc/+g19VUp4XG8s5Svbz/M+Io1sZl3NTjG1+6/Ix2ZnYszbmY5LepPU19P8A7HPhGaKLXPEk0ZWObbY27EfeCndIR7Z2j8D6Vw3w7/Zf8T+KbuKbXIX8PaWDlzNj7Q49ET+H6tjHoa+wvD+g2PhnR7TS9OgW2srWMRxRr2A/mT1J7k1wZljafs3Rpu7e56mT5fVVVYiqrJbX6mjRRRXyp9sFFFFABRRRQAUUUUAJWZ4g8L6T4qsWs9X0621G2P8AyzuIw+Pceh9xWpRTTcXdClFSVpK6Mrwx4X03wdotvpOk2y2lhb7vLiBLYySxyTyTknrWrRRQ25O73FGKilGKskFJilopFCbfc0YpaKACiiigAooooAKKKKACiiigAooooAKSlooA5rxd8OPDfjuHy9c0i2vyBhZmXbKv0cYYfnXQ29vHawxwxIscUahERRgKoGAB+FSUVTlJpRb0RChGMnJLVhRRRUliYo2+5paKAExS0UUAFFFFABRRRQAUUUUAFFFFABRRRQAUUUUAFFFFABRRRQAUUUUAFFFFABRRRQAUUUUAFFFFABRRRQAUUUUAFFFFABRRRQAUUUUAFFFFABRRRQAUUUUAFFFFABRRRQAUUUUAFFFFABRRRQAUUUUAFFFFABRRRQAUUUUAFFFFABRRRQAUUUUAFFFFABRRRQAUUUUAFFFFABRRRQAUUUUAf//Z)"
      ],
      "metadata": {
        "id": "g0oTCz7a3bbm"
      }
    },
    {
      "cell_type": "markdown",
      "source": [
        "**Operatorul pipe**, ***procent mai mare ca procent***, \"îi spune R-ului\" să treacă obiectul aflat în fața operatorului ca primul argument din funcția care urmează operatorul. Matematic, **x pipe f(y)** devine ***f(x,y)***, x fiind transferat ca primul argument al funcției ***f()***.\n",
        "\n",
        "![Screenshot 2022-08-19 104305.jpg](data:image/jpeg;base64,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)"
      ],
      "metadata": {
        "id": "RnyohOV8Cva2"
      }
    },
    {
      "cell_type": "markdown",
      "source": [
        "De exemplu, o modalitate de a suma numere în R este utilizarea funcției `sum()`. Funcția `sum()` poate avea atâtea argumente câte dorim să le sumăm, unde fiecare număr este separat prin virgulă. De exemplu, dacă dorim să sumăm 3 și 4, utilizăm următorul cod: "
      ],
      "metadata": {
        "id": "mAWI_W9DDugh"
      }
    },
    {
      "cell_type": "code",
      "source": [
        "%%R\n",
        "sum(3, 4)"
      ],
      "metadata": {
        "colab": {
          "base_uri": "https://localhost:8080/"
        },
        "id": "vG9uVYcDEWBQ",
        "outputId": "06c6d391-7948-4680-dea4-a57ad0214d9b"
      },
      "execution_count": null,
      "outputs": [
        {
          "output_type": "stream",
          "name": "stdout",
          "text": [
            "[1] 7\n"
          ]
        }
      ]
    },
    {
      "cell_type": "markdown",
      "source": [
        "Dacă dorim să facem aceeași operație cu operatorul **pipe**, acesta va introduce variabila 3 ca primul argument al funcției `sum()`:"
      ],
      "metadata": {
        "id": "WeHMJKYLEcf4"
      }
    },
    {
      "cell_type": "code",
      "source": [
        "%%R\n",
        "3 %>% sum(4)"
      ],
      "metadata": {
        "colab": {
          "base_uri": "https://localhost:8080/"
        },
        "id": "vKb1F-mYEvbi",
        "outputId": "8d87a52c-200c-4a06-edaf-c6383a378c62"
      },
      "execution_count": null,
      "outputs": [
        {
          "output_type": "stream",
          "name": "stdout",
          "text": [
            "[1] 7\n"
          ]
        }
      ]
    },
    {
      "cell_type": "markdown",
      "source": [
        "Deși exemplul de mai sus nu este practic, în timp, vom vedea că operatorul **pipe** ne va permite să conectăm secvanțial numeroase operațiuni cu datele între ele.\n",
        "\n",
        "Acum să utilizăm funcția `filter()` pentru a filtra datele care includ studenții școlilor publice:"
      ],
      "metadata": {
        "id": "dOPor1AuE6-h"
      }
    },
    {
      "cell_type": "code",
      "source": [
        "%%R\n",
        "hsb2_public <- hsb2 %>% filter(schtyp == 'public')\n",
        "hsb2_public"
      ],
      "metadata": {
        "colab": {
          "base_uri": "https://localhost:8080/"
        },
        "id": "a8dp0dUDFXfU",
        "outputId": "59f5f4e3-2148-488c-e521-d6e185ed6606"
      },
      "execution_count": null,
      "outputs": [
        {
          "output_type": "stream",
          "name": "stdout",
          "text": [
            "# A tibble: 168 × 11\n",
            "      id gender race          ses   schtyp prog   read write  math science socst\n",
            "   <int> <chr>  <chr>         <fct> <fct>  <fct> <int> <int> <int>   <int> <int>\n",
            " 1    70 male   white         low   public gene…    57    52    41      47    57\n",
            " 2   121 female white         midd… public voca…    68    59    53      63    61\n",
            " 3    86 male   white         high  public gene…    44    33    54      58    31\n",
            " 4   141 male   white         high  public voca…    63    44    47      53    56\n",
            " 5   172 male   white         midd… public acad…    47    52    57      53    61\n",
            " 6   113 male   white         midd… public acad…    44    52    51      63    61\n",
            " 7    50 male   african amer… midd… public gene…    50    59    42      53    61\n",
            " 8    11 male   hispanic      midd… public acad…    34    46    45      39    36\n",
            " 9    84 male   white         midd… public gene…    63    57    54      58    51\n",
            "10    48 male   african amer… midd… public acad…    57    55    52      50    51\n",
            "# … with 158 more rows\n",
            "# ℹ Use `print(n = ...)` to see more rows\n"
          ]
        }
      ]
    },
    {
      "cell_type": "code",
      "source": [
        "%%R\n",
        "dim(hsb2_public)"
      ],
      "metadata": {
        "colab": {
          "base_uri": "https://localhost:8080/"
        },
        "id": "h3I4IkgQFltJ",
        "outputId": "0e03bf29-0915-4e58-d031-4702fcbadebc"
      },
      "execution_count": null,
      "outputs": [
        {
          "output_type": "stream",
          "name": "stdout",
          "text": [
            "[1] 168  11\n"
          ]
        }
      ]
    },
    {
      "cell_type": "markdown",
      "source": [
        "Putem citi acest cod acest cod în felul următor: \"luăm cadrul de date `hsb2` și îl transferăm ca argument în funcția `filter()`. Ulterior, `filter()` filtrează datele pentru cazurile unde școala este egală cu \"public\". Apoi, datele rezultate sunt atribuite unui nou cadru de date numit `hsb2_pulic`.\"\n",
        "\n",
        "Ar trebui să atrageți atenția asupra două momente din sintaza R:\n",
        "\n",
        "* `==` - \"dublu egal\" este utilizat pentu testul logic, \"egal cu\". R folosește acest test logic pentru a căuta observații (rânduri) în cadrul de date în care tipul de școală este egal cu \"public\" și returnează un cadru de date în care această comparație este `TRUE` pentru fiecare rând.\n",
        "* `\"\"` - \"ghilimele\". În R, variabilele categorila folosesc caractere/șiruri (mai degrabă) pentru valori. Pentru a indiva R-ului că dorim ca testul logic să compare valorile unui variabile categoriale cu un anumit nivel al acestei variabile, trebuie să încadrăm nivelul între ghilimele (de ec. `schtyp == \"public\"`. Ghilimelele spun R-ului că valoarea variabilei este de tip șir de caractere și nu un număr. Încercați să vedeți ce se va întâmpla dacă nu utilizați ghilimelele.\n",
        "\n",
        "Acum, dacă mai facem un tabel al frecvențelor pentru cadrul de date filtrat, ar trebui să vedem în rezultate doar școlile publice."
      ],
      "metadata": {
        "id": "tgePSG0OFxn2"
      }
    },
    {
      "cell_type": "code",
      "source": [
        "%%R\n",
        "hsb2_public %>% count(schtyp)"
      ],
      "metadata": {
        "colab": {
          "base_uri": "https://localhost:8080/"
        },
        "id": "-5Ljg1W1N7xc",
        "outputId": "d05d44d3-5fe3-4ff8-bc9d-f17fa8901035"
      },
      "execution_count": null,
      "outputs": [
        {
          "output_type": "stream",
          "name": "stdout",
          "text": [
            "# A tibble: 1 × 2\n",
            "  schtyp     n\n",
            "  <fct>  <int>\n",
            "1 public   168\n"
          ]
        }
      ]
    },
    {
      "cell_type": "markdown",
      "source": [
        "<font color='red'>**Sarcina 3**<br>\n",
        "Practicați cu variabila `number` din setul de date `email50`. Această variabilăl ne spune ce tip de numere/număr (lipsă, mic sau mare) conține un email.\n",
        "1. Creați un nou cadru de date pe care îl veți numi `email50_big`, care va reprezeta un subset original de setul de date `email50` și care va conține doar numere `big` (această informație este stocată în variabila `number`).\n",
        "2. Raportați dimensiunea noului set de date, arătând și tipurile de variabile pe care le conține.</font> "
      ],
      "metadata": {
        "id": "5Uk3_hC8OMVz"
      }
    },
    {
      "cell_type": "code",
      "source": [
        "%%R\n",
        "email50_big <- email50 %>% filter(number == 'big')\n",
        "\n",
        "glimpse(email50_big)"
      ],
      "metadata": {
        "id": "WFwoVaAHUKe5",
        "outputId": "156eca6e-6968-4b42-853c-2b5d8ef4ef5f",
        "colab": {
          "base_uri": "https://localhost:8080/"
        }
      },
      "execution_count": null,
      "outputs": [
        {
          "output_type": "stream",
          "name": "stdout",
          "text": [
            "Rows: 7\n",
            "Columns: 21\n",
            "$ spam         <fct> 0, 0, 1, 0, 0, 0, 0\n",
            "$ to_multiple  <fct> 0, 0, 0, 0, 0, 0, 0\n",
            "$ from         <fct> 1, 1, 1, 1, 1, 1, 1\n",
            "$ cc           <int> 0, 0, 0, 0, 0, 0, 0\n",
            "$ sent_email   <fct> 0, 0, 0, 0, 0, 1, 0\n",
            "$ time         <dttm> 2012-02-16 20:10:06, 2012-02-04 23:26:09, 2012-01-24 16:1…\n",
            "$ image        <dbl> 0, 0, 0, 0, 0, 0, 0\n",
            "$ attach       <dbl> 0, 0, 0, 0, 0, 0, 0\n",
            "$ dollar       <dbl> 0, 0, 3, 2, 0, 0, 0\n",
            "$ winner       <fct> no, no, yes, no, no, no, no\n",
            "$ inherit      <dbl> 0, 0, 0, 0, 0, 0, 0\n",
            "$ viagra       <dbl> 0, 0, 0, 0, 0, 0, 0\n",
            "$ password     <dbl> 0, 2, 0, 0, 0, 0, 8\n",
            "$ num_char     <dbl> 7.011, 10.368, 42.793, 26.520, 6.563, 11.223, 10.613\n",
            "$ line_breaks  <int> 183, 198, 712, 692, 140, 512, 225\n",
            "$ format       <fct> 1, 1, 1, 1, 1, 1, 1\n",
            "$ re_subj      <fct> 0, 0, 0, 0, 0, 0, 0\n",
            "$ exclaim_subj <dbl> 0, 0, 0, 1, 0, 0, 0\n",
            "$ urgent_subj  <fct> 0, 0, 0, 0, 0, 0, 0\n",
            "$ exclaim_mess <dbl> 1, 1, 2, 7, 2, 9, 9\n",
            "$ number       <fct> big, big, big, big, big, big, big\n"
          ]
        }
      ]
    },
    {
      "cell_type": "code",
      "source": [
        "%%R\n",
        "dim(email50_big)"
      ],
      "metadata": {
        "colab": {
          "base_uri": "https://localhost:8080/"
        },
        "id": "eIsuxEgMD_qX",
        "outputId": "e8d32bd0-f00d-4201-9786-cd0a9949d22f"
      },
      "execution_count": null,
      "outputs": [
        {
          "output_type": "stream",
          "name": "stdout",
          "text": [
            "[1]  7 21\n"
          ]
        }
      ]
    },
    {
      "cell_type": "markdown",
      "source": [
        "### Discretizarea variabilelor"
      ],
      "metadata": {
        "id": "dtROVK4sRbe2"
      }
    },
    {
      "cell_type": "markdown",
      "source": [
        "O metodă comună de creare/obținere de noi variabile din cele existente este discretizarea variabilelor. Aceasta presupune convertirea variabilelor numerice în variabile categoriale în baza anumitor criterii.\n",
        "\n",
        "De exemplu, să presupunem că nu suntem interesați de scorul real de citire al studenților (setul de date `hsb2`), în schimb, dacă scorul lor de citire este mediu, sub-, sau peste-medie. În primul rând trebuie să calculăm scorul mediu de citire cu funcția `mean()`."
      ],
      "metadata": {
        "id": "U2DfAM28Rf7F"
      }
    },
    {
      "cell_type": "code",
      "source": [
        "%%R\n",
        "mean(hsb2$read)"
      ],
      "metadata": {
        "colab": {
          "base_uri": "https://localhost:8080/"
        },
        "id": "1YGtNo69TGE4",
        "outputId": "b0f11600-44d6-4f65-ad4f-7a354035e919"
      },
      "execution_count": null,
      "outputs": [
        {
          "output_type": "stream",
          "name": "stdout",
          "text": [
            "[1] 52.23\n"
          ]
        }
      ]
    },
    {
      "cell_type": "markdown",
      "source": [
        "Pentru a ne putea referi la această valoare mai târziu, am putea să o stocăm într-un nou obiect la care am putea face referință prin nume. Corespunzător îl salvăm într-o nouă variabilă `avg_read`."
      ],
      "metadata": {
        "id": "4s-MhUjqTSrn"
      }
    },
    {
      "cell_type": "code",
      "source": [
        "%%R\n",
        "avg_read <- mean(hsb2$read)\n",
        "avg_read"
      ],
      "metadata": {
        "colab": {
          "base_uri": "https://localhost:8080/"
        },
        "id": "aS-XVJSXTsoz",
        "outputId": "88dfcd42-96aa-40da-97f1-78fbac79d2d7"
      },
      "execution_count": null,
      "outputs": [
        {
          "output_type": "stream",
          "name": "stdout",
          "text": [
            "[1] 52.23\n"
          ]
        }
      ]
    },
    {
      "cell_type": "markdown",
      "source": [
        "În continuare, pentru a crea cele două grupuri de interes, trebuie să stabilim dacă fiecare elev este fie (1) sub-medie, fie (2) peste-medie. Parcurgerea fiecărei înregistrări ar fi foarte plictisitoare, iar unoeri chiar imposibilă, așa că haideți să vedem o altă opțiune.\n",
        "\n",
        "![Screenshot 2022-08-19 125714.jpg](data:image/jpeg;base64,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)\n"
      ],
      "metadata": {
        "id": "H7zTFdjJhtVf"
      }
    },
    {
      "cell_type": "markdown",
      "source": [
        "Asfel, putem crea o nouă variabilă, `read_cat`, cu ajutorul funcției `mutate()` și a funcției `if_else()`:"
      ],
      "metadata": {
        "id": "hzYtQtOaiczm"
      }
    },
    {
      "cell_type": "code",
      "source": [
        "%%R\n",
        "hsb2 <- hsb2 %>%\n",
        "    mutate(read_cat = if_else(read < avg_read,\n",
        "                              \"below average\",\n",
        "                              \"at or above average\")\n",
        "    )\n",
        "glimpse(hsb2)"
      ],
      "metadata": {
        "colab": {
          "base_uri": "https://localhost:8080/"
        },
        "id": "SS0ptY4ETzT4",
        "outputId": "e8a113fd-2dc2-424d-e700-a9dd489c46f6"
      },
      "execution_count": null,
      "outputs": [
        {
          "output_type": "stream",
          "name": "stdout",
          "text": [
            "Rows: 200\n",
            "Columns: 12\n",
            "$ id       <int> 70, 121, 86, 141, 172, 113, 50, 11, 84, 48, 75, 60, 95, 104, …\n",
            "$ gender   <chr> \"male\", \"female\", \"male\", \"male\", \"male\", \"male\", \"male\", \"ma…\n",
            "$ race     <chr> \"white\", \"white\", \"white\", \"white\", \"white\", \"white\", \"africa…\n",
            "$ ses      <fct> low, middle, high, high, middle, middle, middle, middle, midd…\n",
            "$ schtyp   <fct> public, public, public, public, public, public, public, publi…\n",
            "$ prog     <fct> general, vocational, general, vocational, academic, academic,…\n",
            "$ read     <int> 57, 68, 44, 63, 47, 44, 50, 34, 63, 57, 60, 57, 73, 54, 45, 4…\n",
            "$ write    <int> 52, 59, 33, 44, 52, 52, 59, 46, 57, 55, 46, 65, 60, 63, 57, 4…\n",
            "$ math     <int> 41, 53, 54, 47, 57, 51, 42, 45, 54, 52, 51, 51, 71, 57, 50, 4…\n",
            "$ science  <int> 47, 63, 58, 53, 53, 63, 53, 39, 58, 50, 53, 63, 61, 55, 31, 5…\n",
            "$ socst    <int> 57, 61, 31, 56, 61, 61, 61, 36, 51, 51, 61, 61, 71, 46, 56, 5…\n",
            "$ read_cat <chr> \"at or above average\", \"at or above average\", \"below average\"…\n"
          ]
        }
      ]
    },
    {
      "cell_type": "markdown",
      "source": [
        "Mai întâi începem cu cadrul de date `hsb2`, pe care îl introducem în funcția `mutate()`. Utilizăm funcția `mutate()` pentru a crea o nouă variabilă cu numele `read_cat`. Este important de menționat că obținem variabile noi fără să modificăm pe cele vechi.\n",
        "\n",
        "Valorile noii varibile vor fi \"below average\" dacă scorul de citire este mai  mic decât media și \"at or above average\" dacă acesta este egal sau mai mare.\n",
        "\n",
        "Discretizare este obținută în R utilizând funcția `if_else()`:\n",
        "* primul argument a funcției este testeul logic pe care dorim să-l efectuăm: `read < avg_read`.\n",
        "* al doilea argument este ceea ce ne dorim să returneze funcția dacă rezultatul testului logic este `TURE`, cu alte cuvinte dacă scorul studenților este mai mic decât scorul mediu: `below average`.\n",
        "* al treilea argument este ceea ce de dorim să returneze funcția dacă rezultatul testului este `FALSE`, cu alte cuvinte, dacă scorul studenților este egal sau mai mare decât scorul mediu: `at or above average`."
      ],
      "metadata": {
        "id": "PcrUAxq28FNI"
      }
    },
    {
      "cell_type": "markdown",
      "source": [
        "<font color='red'>**Sarcina 4**<br>\n",
        "Creați varsiunea categorială pentru variabila `num_char` în setul de date `email50`. `num_char` reprezintă numărule de caractere în email (în sute). Noua variabilă va avea două nivele (`below median` și `at or above median`), în dependență dacă un email are mai puține și egal sau mai multe decât valoarea medianei pentru variabila `num_char`.\n",
        "\n",
        "<font color='red'> Mediana marchează percentila 50, sau mijlocul unei distribuții, astfel, jumătate dintre emailuri vor nimeri într-o categorie, cealaltă jumătate în alta.\n",
        "\n",
        "1. Încărcați setul de date `email50` în spațiul vostru de lucru.\n",
        "2. Găsiți mediana \n",
        "3. Utilizând `mutate()`, creați o nouă variabilă (coloană) cu numele `num_char_cat` care va discretiza variabila `num_char` în `\"below median\"` sau `\"at or above median\"`.\n",
        "4. Atribuiți setul de date rezultat la un nou cadru de date `email50_updated`.\n",
        "5. Determinați frecențele pentru fiecare nivel în variabila `num_char_cat`. Verificați dacă numărul de observații întrunește pe cel așteptat.</font> "
      ],
      "metadata": {
        "id": "bdDmJp4L-VR5"
      }
    },
    {
      "cell_type": "markdown",
      "source": [
        "\n",
        "\n",
        "```\n",
        "# Calculați mediana pentru numărul de caractere\n",
        "med_num_char <- median(___)\n",
        "\n",
        "# Creați variabila num_char în email50\n",
        "email50_updated <- email50 %>%\n",
        "    mutate(num_char_cat = if_else(num_char < med_num_char,\n",
        "                                  \"[valoare daca avem TRUE]\",\n",
        "                                  \"[valoare daca avem FALSE]\")\n",
        "          )\n",
        "\n",
        "# Numărul de variabile pentru fiecare categorie\n",
        "email50_updated %>% cout(___)\n",
        "```\n",
        "\n"
      ],
      "metadata": {
        "id": "-Nl7-fsg6R3E"
      }
    },
    {
      "cell_type": "code",
      "source": [
        "%%R\n",
        "med_num_char <- median(email50$num_char)\n",
        "med_num_char"
      ],
      "metadata": {
        "id": "m8JGw465_XB4",
        "outputId": "e51915e8-488a-4acf-c780-33671e25facb",
        "colab": {
          "base_uri": "https://localhost:8080/"
        }
      },
      "execution_count": null,
      "outputs": [
        {
          "output_type": "stream",
          "name": "stdout",
          "text": [
            "[1] 6.8895\n"
          ]
        }
      ]
    },
    {
      "cell_type": "code",
      "source": [
        "%%R\n",
        "email50_fortified <- email50 %>%\n",
        "    mutate(num_char_cat = if_else(num_char < med_num_char,\n",
        "                                  \"below median\",\n",
        "                                  \"at or above median\")\n",
        "          )\n",
        "glimpse(email50_fortified)    "
      ],
      "metadata": {
        "colab": {
          "base_uri": "https://localhost:8080/"
        },
        "id": "NkgEObgoEMK6",
        "outputId": "8aa36b3c-92ac-4500-e830-c4aa85eb4157"
      },
      "execution_count": null,
      "outputs": [
        {
          "output_type": "stream",
          "name": "stdout",
          "text": [
            "Rows: 50\n",
            "Columns: 22\n",
            "$ spam         <fct> 0, 0, 1, 0, 0, 0, 0, 0, 0, 0, 0, 0, 1, 1, 0, 0, 0, 1, 0, …\n",
            "$ to_multiple  <fct> 0, 0, 0, 0, 0, 0, 0, 0, 0, 0, 0, 0, 0, 1, 0, 0, 0, 0, 0, …\n",
            "$ from         <fct> 1, 1, 1, 1, 1, 1, 1, 1, 1, 1, 1, 1, 1, 1, 1, 1, 1, 1, 1, …\n",
            "$ cc           <int> 0, 0, 4, 0, 0, 0, 0, 0, 1, 0, 0, 0, 0, 0, 0, 0, 0, 0, 1, …\n",
            "$ sent_email   <fct> 1, 0, 0, 0, 0, 0, 0, 1, 1, 0, 0, 0, 0, 0, 0, 1, 1, 0, 1, …\n",
            "$ time         <dttm> 2012-01-04 13:19:16, 2012-02-16 20:10:06, 2012-01-04 15:…\n",
            "$ image        <dbl> 0, 0, 0, 0, 0, 0, 0, 0, 0, 0, 0, 0, 0, 0, 0, 0, 0, 0, 0, …\n",
            "$ attach       <dbl> 0, 0, 2, 0, 0, 0, 0, 0, 0, 0, 0, 0, 0, 2, 0, 0, 0, 1, 0, …\n",
            "$ dollar       <dbl> 0, 0, 0, 0, 9, 0, 0, 0, 0, 23, 4, 0, 3, 2, 0, 0, 0, 0, 0,…\n",
            "$ winner       <fct> no, no, no, no, no, no, no, no, no, no, no, no, yes, no, …\n",
            "$ inherit      <dbl> 0, 0, 0, 0, 0, 0, 0, 0, 0, 0, 0, 0, 0, 0, 0, 0, 0, 0, 0, …\n",
            "$ viagra       <dbl> 0, 0, 0, 0, 0, 0, 0, 0, 0, 0, 0, 0, 0, 0, 0, 0, 0, 0, 0, …\n",
            "$ password     <dbl> 0, 0, 0, 0, 1, 0, 0, 0, 0, 0, 0, 2, 0, 0, 0, 0, 0, 0, 8, …\n",
            "$ num_char     <dbl> 21.705, 7.011, 0.631, 2.454, 41.623, 0.057, 0.809, 5.229,…\n",
            "$ line_breaks  <int> 551, 183, 28, 61, 1088, 5, 17, 88, 242, 578, 1167, 198, 7…\n",
            "$ format       <fct> 1, 1, 0, 0, 1, 0, 0, 1, 1, 1, 1, 1, 1, 0, 1, 1, 1, 0, 1, …\n",
            "$ re_subj      <fct> 1, 0, 0, 0, 0, 0, 0, 1, 1, 0, 0, 0, 0, 0, 0, 1, 1, 0, 0, …\n",
            "$ exclaim_subj <dbl> 0, 0, 0, 0, 0, 0, 0, 0, 1, 0, 0, 0, 0, 0, 0, 0, 0, 0, 0, …\n",
            "$ urgent_subj  <fct> 0, 0, 0, 0, 0, 0, 0, 0, 0, 0, 0, 0, 0, 0, 0, 0, 0, 0, 0, …\n",
            "$ exclaim_mess <dbl> 8, 1, 2, 1, 43, 0, 0, 2, 22, 3, 13, 1, 2, 2, 21, 10, 0, 0…\n",
            "$ number       <fct> small, big, none, small, small, small, small, small, smal…\n",
            "$ num_char_cat <chr> \"at or above median\", \"at or above median\", \"below median…\n"
          ]
        }
      ]
    },
    {
      "cell_type": "code",
      "source": [
        "%%R\n",
        "email50_fortified %>% count(num_char_cat)"
      ],
      "metadata": {
        "colab": {
          "base_uri": "https://localhost:8080/"
        },
        "id": "ILRDqQnsEOvh",
        "outputId": "3c3a5e91-fb4e-4dbc-e75a-35d2154a7a8a"
      },
      "execution_count": null,
      "outputs": [
        {
          "output_type": "stream",
          "name": "stdout",
          "text": [
            "# A tibble: 2 × 2\n",
            "  num_char_cat           n\n",
            "  <chr>              <int>\n",
            "1 at or above median    25\n",
            "2 below median          25\n"
          ]
        }
      ]
    },
    {
      "cell_type": "markdown",
      "source": [
        "### Combinarea nivelelor "
      ],
      "metadata": {
        "id": "tN__4SSix2tk"
      }
    },
    {
      "cell_type": "markdown",
      "source": [
        "O altă metodă comună de creare a variabilelor noi în baza celor existente este prin *combinarea nivelelor variabilelor categoriale*. De exemplu, setul de date `email50` conține variabila categorială `number` cu nivelele `\"none\"`, `\"some\"` și `\"big\"`, însă să ne imaginăm că suntem interesați numai în cazurile în care un email conține un număr. În continuare vom crea o variabilă care conține această informație și vom vizualiza informațiile."
      ],
      "metadata": {
        "id": "DqD9tvd0x8qx"
      }
    },
    {
      "cell_type": "markdown",
      "source": [
        "<font color='red'>**Sarcina 5**<br>\n",
        "În setul de date `email50`, variabila `number` are trei nivele, `\"none\"`, `\"some\"` și `\"big\"`. Creați o nouă variabilă `number_cat` care va combina nivelele `\"some\"` și `\"big\"` într-un singur nivel cu numele `\"yes\"` și va păstra separat nivelul `\"none\"` cu numele `\"no\"`.\n",
        "\n",
        "<font color='red'> Utilizați funcțiile `mutate()` și `if_else()` pentru:\n",
        "\n",
        "1. Creați o nouă coloană `number_cat` în setul de date `email50` care va discretiza variabila `number` în `\"yes\"` și `\"no\"`.\n",
        "2. Atribuiți cadrului de date rezultat numele `email50_updated`. \n",
        "3. Rulați codul de mai jos pentru a vizualiza distribuția variabilei `number_cat`.</font> "
      ],
      "metadata": {
        "id": "tT15Ua7Xy-jZ"
      }
    },
    {
      "cell_type": "markdown",
      "source": [
        "\n",
        "\n",
        "```\n",
        "# Creați coloana number_cat în email50\n",
        "email50_updated <- email50 %>%\n",
        "   mutate(___ = if_else(___,\n",
        "                            \"[valoare daca avem TRUE]\",\n",
        "                            \"[valoare daca avem FALSE]\")\n",
        "   )\n",
        "\n",
        "# Utilizați următorul cod pentru a vizualiza distribuția variabilei number_cat\n",
        "ggplot(email50_updated, aes(x = number_cat)) + geom_bar()\n",
        "```\n",
        "\n"
      ],
      "metadata": {
        "id": "Wgo6hXpE5GjL"
      }
    },
    {
      "cell_type": "code",
      "source": [
        "%%R\n",
        "\n",
        "email50_updated <- email50 %>%\n",
        "   mutate(number_cat = if_else(number == \"none\",\n",
        "                            \"no\",\n",
        "                            \"yes\")\n",
        "   )\n",
        "glimpse(email50_updated) "
      ],
      "metadata": {
        "id": "J_6sakZ25__b",
        "outputId": "560a684a-247d-4df4-ec35-99a95581795b",
        "colab": {
          "base_uri": "https://localhost:8080/"
        }
      },
      "execution_count": null,
      "outputs": [
        {
          "output_type": "stream",
          "name": "stdout",
          "text": [
            "Rows: 50\n",
            "Columns: 22\n",
            "$ spam         <fct> 0, 0, 1, 0, 0, 0, 0, 0, 0, 0, 0, 0, 1, 1, 0, 0, 0, 1, 0, …\n",
            "$ to_multiple  <fct> 0, 0, 0, 0, 0, 0, 0, 0, 0, 0, 0, 0, 0, 1, 0, 0, 0, 0, 0, …\n",
            "$ from         <fct> 1, 1, 1, 1, 1, 1, 1, 1, 1, 1, 1, 1, 1, 1, 1, 1, 1, 1, 1, …\n",
            "$ cc           <int> 0, 0, 4, 0, 0, 0, 0, 0, 1, 0, 0, 0, 0, 0, 0, 0, 0, 0, 1, …\n",
            "$ sent_email   <fct> 1, 0, 0, 0, 0, 0, 0, 1, 1, 0, 0, 0, 0, 0, 0, 1, 1, 0, 1, …\n",
            "$ time         <dttm> 2012-01-04 13:19:16, 2012-02-16 20:10:06, 2012-01-04 15:…\n",
            "$ image        <dbl> 0, 0, 0, 0, 0, 0, 0, 0, 0, 0, 0, 0, 0, 0, 0, 0, 0, 0, 0, …\n",
            "$ attach       <dbl> 0, 0, 2, 0, 0, 0, 0, 0, 0, 0, 0, 0, 0, 2, 0, 0, 0, 1, 0, …\n",
            "$ dollar       <dbl> 0, 0, 0, 0, 9, 0, 0, 0, 0, 23, 4, 0, 3, 2, 0, 0, 0, 0, 0,…\n",
            "$ winner       <fct> no, no, no, no, no, no, no, no, no, no, no, no, yes, no, …\n",
            "$ inherit      <dbl> 0, 0, 0, 0, 0, 0, 0, 0, 0, 0, 0, 0, 0, 0, 0, 0, 0, 0, 0, …\n",
            "$ viagra       <dbl> 0, 0, 0, 0, 0, 0, 0, 0, 0, 0, 0, 0, 0, 0, 0, 0, 0, 0, 0, …\n",
            "$ password     <dbl> 0, 0, 0, 0, 1, 0, 0, 0, 0, 0, 0, 2, 0, 0, 0, 0, 0, 0, 8, …\n",
            "$ num_char     <dbl> 21.705, 7.011, 0.631, 2.454, 41.623, 0.057, 0.809, 5.229,…\n",
            "$ line_breaks  <int> 551, 183, 28, 61, 1088, 5, 17, 88, 242, 578, 1167, 198, 7…\n",
            "$ format       <fct> 1, 1, 0, 0, 1, 0, 0, 1, 1, 1, 1, 1, 1, 0, 1, 1, 1, 0, 1, …\n",
            "$ re_subj      <fct> 1, 0, 0, 0, 0, 0, 0, 1, 1, 0, 0, 0, 0, 0, 0, 1, 1, 0, 0, …\n",
            "$ exclaim_subj <dbl> 0, 0, 0, 0, 0, 0, 0, 0, 1, 0, 0, 0, 0, 0, 0, 0, 0, 0, 0, …\n",
            "$ urgent_subj  <fct> 0, 0, 0, 0, 0, 0, 0, 0, 0, 0, 0, 0, 0, 0, 0, 0, 0, 0, 0, …\n",
            "$ exclaim_mess <dbl> 8, 1, 2, 1, 43, 0, 0, 2, 22, 3, 13, 1, 2, 2, 21, 10, 0, 0…\n",
            "$ number       <fct> small, big, none, small, small, small, small, small, smal…\n",
            "$ number_cat   <chr> \"yes\", \"yes\", \"no\", \"yes\", \"yes\", \"yes\", \"yes\", \"yes\", \"y…\n"
          ]
        }
      ]
    },
    {
      "cell_type": "code",
      "source": [
        "%%R\n",
        "ggplot(email50_updated, aes(x = number_cat)) + geom_bar()"
      ],
      "metadata": {
        "colab": {
          "base_uri": "https://localhost:8080/",
          "height": 497
        },
        "id": "g4buScXYEYKC",
        "outputId": "92ffd973-a32a-49f5-f850-2802b56b6070"
      },
      "execution_count": null,
      "outputs": [
        {
          "output_type": "display_data",
          "data": {
            "image/png": "[encoded data removed]"
          },
          "metadata": {}
        }
      ]
    },
    {
      "cell_type": "markdown",
      "source": [
        "### Vizualizarea datelor numerice"
      ],
      "metadata": {
        "id": "maTlXeyH7jDc"
      }
    },
    {
      "cell_type": "markdown",
      "source": [
        "Primul pas în cadrul oricărei analize de date este analiza exploratorie a datelor, o componentă importană a căreia fiind vizualizarea datelor.\n",
        "\n",
        "Există numeroase metode de vizualizare a datelor în R, aici, noi ne vom concentra pe pachetul **ggplot2**, parte a familiei **tidyverse**.\n",
        "\n",
        "Odată ce învățați cum să faceți reprezentări de bază cu **ggplot2**, vă va fi ușor să extindeți codul pentru a crea vizualizări care afișează relația dintre mai multe variabile simultan. O altă caracteristică atractivă a **ggplot2** este că puteți construi reprezentări utilizând straturile, pornind de la datele brute, apoi adăugând straturi noi de adnotări și statistici sumare.\n",
        "\n",
        "Să vizualizăm relația dintre variabilele `\"math\"` și `\"science\"` din setul de date `hsb2`:\n"
      ],
      "metadata": {
        "id": "rFc6kiYv-HVr"
      }
    },
    {
      "cell_type": "code",
      "source": [
        "%%R\n",
        "ggplot(data = hsb2, aes(x = science, y = math)) + geom_point()"
      ],
      "metadata": {
        "colab": {
          "base_uri": "https://localhost:8080/",
          "height": 497
        },
        "id": "9L-75SwYAEid",
        "outputId": "cb1403b8-56f9-4558-ae61-3c18023315cd"
      },
      "execution_count": null,
      "outputs": [
        {
          "output_type": "display_data",
          "data": {
            "image/png": "[encoded data removed]"
          },
          "metadata": {}
        }
      ]
    },
    {
      "cell_type": "code",
      "source": [
        "%%R\n",
        "ggplot(data = hsb2, aes(x = science, y = math)) + geom_point() + geom_smooth(method = lm)"
      ],
      "metadata": {
        "colab": {
          "base_uri": "https://localhost:8080/",
          "height": 532
        },
        "id": "frfxUbPKANjw",
        "outputId": "079350a4-55a2-485d-808c-c3ed6f214f30"
      },
      "execution_count": null,
      "outputs": [
        {
          "output_type": "stream",
          "name": "stderr",
          "text": [
            "WARNING:rpy2.rinterface_lib.callbacks:R[write to console]: `geom_smooth()` using formula 'y ~ x'\n",
            "\n"
          ]
        },
        {
          "output_type": "display_data",
          "data": {
            "image/png": "[encoded data removed]"
          },
          "metadata": {}
        }
      ]
    },
    {
      "cell_type": "markdown",
      "source": [
        "Să analizăm codul de mai sus:\n",
        "* utilizăm funcția `ggplot()` pentru a crea reprezentarea.\n",
        "* primul argument este cadrul de date în care se conțin datele/variabilele pe care dorim să le reprezentăm: `data = hsb2`.\n",
        "* utilizăm argumentul `aes` pentru a indica care care variabile dorim să le reprezentăm pe fiecare dintre axe: `aes(x = science, y = math)`.\n",
        "* în final specificăm ce forme (shape) dorim să obținem. Dorim să obținem un scatterplot, în care fiecare observație să fie reprezentată printr-un punct, pentru asta adăugând funcția `geom_point()`.\n",
        "\n",
        "Observăm în reprezentarea rezultată o relație pozitivă între scorurile la matematică și științe, ceea ce înseamnă că studenții care un un scor înalt în științe, au la fel un scor înalt la matematică.\n",
        "\n",
        "Acum, să creăm același plot cu scorurile pentru matematică și științe, însă de data asta să luăm în sconsiderație programul în care este înrolat studentul: \"general\", \"academic\", sau \"vocational\"."
      ],
      "metadata": {
        "id": "Iv1uwrurA00t"
      }
    },
    {
      "cell_type": "code",
      "source": [
        "%%R\n",
        "ggplot(data = hsb2, aes(x = science, y = math, color = prog)) + geom_point() + geom_smooth(method = lm)"
      ],
      "metadata": {
        "colab": {
          "base_uri": "https://localhost:8080/",
          "height": 532
        },
        "id": "WULzlHlOOpk8",
        "outputId": "2a8ee8a9-b703-41b5-fdd8-6c78dc0e71d4"
      },
      "execution_count": null,
      "outputs": [
        {
          "output_type": "stream",
          "name": "stderr",
          "text": [
            "WARNING:rpy2.rinterface_lib.callbacks:R[write to console]: `geom_smooth()` using formula 'y ~ x'\n",
            "\n"
          ]
        },
        {
          "output_type": "display_data",
          "data": {
            "image/png": "[encoded data removed]"
          },
          "metadata": {}
        }
      ]
    },
    {
      "cell_type": "markdown",
      "source": [
        "Aceeași relație pozitivă între scorurile la matematică și științe este aparentă. În același timp, observăm că studenții din programele academice (punctele verzi) tind să aibă scoruri la matematică mai mari în raport cu scorul la matematică față de cei din programele profesionale (puncte albastre) și programele generale (roșu)."
      ],
      "metadata": {
        "id": "uJECNVQKPLSs"
      }
    },
    {
      "cell_type": "markdown",
      "source": [
        "<font color='red'>**Sarcina 6**<br>\n",
        "Se propune  să creați o vizualizaare pentru relația dintre două variabile numerice din setul de date `email50`, diferențiind după condiția dacă emailul este sau nu spam. Aceasta înseamnă că vom utiliza instrumente vizuale (cum ar fi culoarea sau forma) pentru a identifica nivelurile din variabila `spam`, astfel încât să putem compara valorile nivelurilor între ele.\n",
        "\n",
        "<font color='red'>Amintiți-vă că în funcția `ggplot()`, primul argument este setul de date, apoi cartăm caractersiticile estetice ale reprezentării la variabilele de interes din setul de date și în final vom utiliza stratul `geom_XXX()` prin care indicăm în ce mod să reprezenăm datele în reprezentare.\n",
        "\n",
        "<font color='red'>Acum vom face un scatterplot cu utilizarea stratului `geom_point()` în apelul `ggplot()`.\n",
        "\n",
        "1. Creați un scatterplot pentru numărul de semne exclamare (`exclaim_mess`) pentru axa-y față de numărul de caractere (`num_char`) pe axa-x.\n",
        "2. Colorați punctele după condiția dacă emailurile sunt sau nu spamuri.</font> "
      ],
      "metadata": {
        "id": "-hGLBFNVFRs2"
      }
    },
    {
      "cell_type": "code",
      "source": [
        "%%R\n",
        "ggplot(data = email50, aes(x = num_char, y = exclaim_mess, color = spam)) + geom_point() + geom_smooth(method = lm)"
      ],
      "metadata": {
        "id": "l9JKxNekTfh8",
        "outputId": "41086a29-fe42-45ba-ad03-46190d54d505",
        "colab": {
          "base_uri": "https://localhost:8080/",
          "height": 532
        }
      },
      "execution_count": null,
      "outputs": [
        {
          "output_type": "stream",
          "name": "stderr",
          "text": [
            "WARNING:rpy2.rinterface_lib.callbacks:R[write to console]: `geom_smooth()` using formula 'y ~ x'\n",
            "\n"
          ]
        },
        {
          "output_type": "display_data",
          "data": {
            "image/png": "[encoded data removed]"
          },
          "metadata": {}
        }
      ]
    }
  ]
}